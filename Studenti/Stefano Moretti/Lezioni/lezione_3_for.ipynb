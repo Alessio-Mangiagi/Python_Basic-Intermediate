{
 "cells": [
  {
   "cell_type": "code",
   "execution_count": 1,
   "id": "15f235b4",
   "metadata": {},
   "outputs": [
    {
     "name": "stdout",
     "output_type": "stream",
     "text": [
      "Studente 1: Giuseppe\n",
      "Studente 2: Gianluca\n",
      "Studente 3: Francesco\n"
     ]
    }
   ],
   "source": [
    "studenti = [\"Giuseppe\", \"Gianluca\", \"Francesco\"]\n",
    "for i in range(len(studenti)):\n",
    "    print(f\"Studente {i+1}: {studenti[i]}\")"
   ]
  },
  {
   "cell_type": "code",
   "execution_count": null,
   "id": "f9254285",
   "metadata": {},
   "outputs": [
    {
     "name": "stdout",
     "output_type": "stream",
     "text": [
      "0\n",
      "2\n",
      "4\n"
     ]
    }
   ],
   "source": [
    "for i in range(0, 5, 2): #stampa da 0 a 4 con passo 2\n",
    "    print(i)"
   ]
  }
 ],
 "metadata": {
  "kernelspec": {
   "display_name": "Python 3",
   "language": "python",
   "name": "python3"
  },
  "language_info": {
   "codemirror_mode": {
    "name": "ipython",
    "version": 3
   },
   "file_extension": ".py",
   "mimetype": "text/x-python",
   "name": "python",
   "nbconvert_exporter": "python",
   "pygments_lexer": "ipython3",
   "version": "3.13.3"
  }
 },
 "nbformat": 4,
 "nbformat_minor": 5
}
