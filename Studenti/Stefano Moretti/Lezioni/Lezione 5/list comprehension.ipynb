{
 "cells": [
  {
   "cell_type": "markdown",
   "id": "cf7b8a45",
   "metadata": {},
   "source": [
    "Creiamo una lista di numeri"
   ]
  },
  {
   "cell_type": "code",
   "execution_count": 2,
   "id": "ea204233",
   "metadata": {},
   "outputs": [],
   "source": [
    "lista_numeri = [1, 2, 3, 4, 5]"
   ]
  },
  {
   "cell_type": "markdown",
   "id": "9b002cc1",
   "metadata": {},
   "source": [
    "Quadrato di ogni elemento della lista"
   ]
  },
  {
   "cell_type": "code",
   "execution_count": 4,
   "id": "c583215a",
   "metadata": {},
   "outputs": [
    {
     "name": "stdout",
     "output_type": "stream",
     "text": [
      "[1, 4, 9, 16, 25]\n"
     ]
    }
   ],
   "source": [
    "quadrato_lista_numeri = [n**2 for n in lista_numeri] #ogni elemento della lista viene elevato al quadrato\n",
    "print(quadrato_lista_numeri) #stampa la lista dei quadrati"
   ]
  },
  {
   "cell_type": "markdown",
   "id": "c045ad8b",
   "metadata": {},
   "source": [
    "Quadrato dei numeri pari della lista"
   ]
  },
  {
   "cell_type": "code",
   "execution_count": 3,
   "id": "8ed0e1e9",
   "metadata": {},
   "outputs": [
    {
     "name": "stdout",
     "output_type": "stream",
     "text": [
      "[4, 16]\n"
     ]
    }
   ],
   "source": [
    "quadrato_lista_pari = [n**2 for n in lista_numeri if n % 2 == 0] #ogni elemento della lista viene elevato al quadrato se è pari\n",
    "print(quadrato_lista_pari) #stampa la lista dei quadrati degli elementi pari"
   ]
  }
 ],
 "metadata": {
  "kernelspec": {
   "display_name": "Python 3",
   "language": "python",
   "name": "python3"
  },
  "language_info": {
   "codemirror_mode": {
    "name": "ipython",
    "version": 3
   },
   "file_extension": ".py",
   "mimetype": "text/x-python",
   "name": "python",
   "nbconvert_exporter": "python",
   "pygments_lexer": "ipython3",
   "version": "3.13.3"
  }
 },
 "nbformat": 4,
 "nbformat_minor": 5
}
