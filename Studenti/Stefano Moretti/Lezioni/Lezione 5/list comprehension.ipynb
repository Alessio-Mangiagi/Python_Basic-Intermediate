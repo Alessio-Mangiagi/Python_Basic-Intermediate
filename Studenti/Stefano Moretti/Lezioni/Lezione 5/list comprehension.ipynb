{
 "cells": [
  {
   "cell_type": "markdown",
   "id": "cf7b8a45",
   "metadata": {},
   "source": [
    "Creiamo una lista di numeri"
   ]
  },
  {
   "cell_type": "code",
   "execution_count": 8,
   "id": "ea204233",
   "metadata": {},
   "outputs": [],
   "source": [
    "lista_numeri = [1, 2, 3, 4, 5]\n",
    "lista_studenti = [\"Alice\", \"Zaza\", \"Bob\", \"Charlie\", \"Dave\"]"
   ]
  },
  {
   "cell_type": "markdown",
   "id": "9b002cc1",
   "metadata": {},
   "source": [
    "Quadrato di ogni elemento della lista"
   ]
  },
  {
   "cell_type": "code",
   "execution_count": 4,
   "id": "c583215a",
   "metadata": {},
   "outputs": [
    {
     "name": "stdout",
     "output_type": "stream",
     "text": [
      "[1, 4, 9, 16, 25]\n"
     ]
    }
   ],
   "source": [
    "quadrato_lista_numeri = [n**2 for n in lista_numeri] #ogni elemento della lista viene elevato al quadrato\n",
    "print(quadrato_lista_numeri) #stampa la lista dei quadrati"
   ]
  },
  {
   "cell_type": "markdown",
   "id": "c045ad8b",
   "metadata": {},
   "source": [
    "Quadrato dei numeri pari della lista"
   ]
  },
  {
   "cell_type": "code",
   "execution_count": 3,
   "id": "8ed0e1e9",
   "metadata": {},
   "outputs": [
    {
     "name": "stdout",
     "output_type": "stream",
     "text": [
      "[4, 16]\n"
     ]
    }
   ],
   "source": [
    "quadrato_lista_pari = [n**2 for n in lista_numeri if n % 2 == 0] #ogni elemento della lista viene elevato al quadrato se è pari\n",
    "print(quadrato_lista_pari) #stampa la lista dei quadrati degli elementi pari"
   ]
  },
  {
   "cell_type": "markdown",
   "id": "23c91762",
   "metadata": {},
   "source": [
    "Stampare una lista per il numero degli elementi di un'altra lista"
   ]
  },
  {
   "cell_type": "code",
   "execution_count": 18,
   "id": "53080337",
   "metadata": {},
   "outputs": [
    {
     "name": "stdout",
     "output_type": "stream",
     "text": [
      "[[1, 4, 9, 16, 25], [1, 4, 9, 16, 25], [1, 4, 9, 16, 25], [1, 4, 9, 16, 25], [1, 4, 9, 16, 25]]\n"
     ]
    }
   ],
   "source": [
    "lista_x_lista = [[n**2 for n in lista_numeri] for studente in lista_studenti] #crea una lista di liste, ognuna contenente i quadrati degli elementi di lista_numeri\n",
    "print(lista_x_lista) #stampa la lista di liste"
   ]
  },
  {
   "cell_type": "code",
   "execution_count": 21,
   "id": "d0c61236",
   "metadata": {},
   "outputs": [
    {
     "name": "stdout",
     "output_type": "stream",
     "text": [
      "[25, 16, 9, 4, 1]\n"
     ]
    }
   ],
   "source": [
    "quadrato_lista_numeri_rev = [i**2 for i in reversed(lista_numeri)] #ogni elemento della lista viene elevato al quadrato, ma la lista viene prima invertita\n",
    "print(quadrato_lista_numeri_rev) #stampa la lista dei quadrati degli elementi in ordine inverso"
   ]
  },
  {
   "cell_type": "code",
   "execution_count": 23,
   "id": "f441a63a",
   "metadata": {},
   "outputs": [
    {
     "name": "stdout",
     "output_type": "stream",
     "text": [
      "[[26, 17, 10, 5, 2], [27, 18, 11, 6, 3], [28, 19, 12, 7, 4], [29, 20, 13, 8, 5], [30, 21, 14, 9, 6]]\n"
     ]
    }
   ],
   "source": [
    "lista_x_lista_rev = [[i+n for i in quadrato_lista_numeri_rev]for n in lista_numeri] #crea una lista di liste, ognuna contenente gli elementi di quadrato_lista_numeri_rev sommati a ogni elemento di lista_studenti\n",
    "print(lista_x_lista_rev) #stampa la lista di liste con gli elementi sommati"
   ]
  }
 ],
 "metadata": {
  "kernelspec": {
   "display_name": "Python 3",
   "language": "python",
   "name": "python3"
  },
  "language_info": {
   "codemirror_mode": {
    "name": "ipython",
    "version": 3
   },
   "file_extension": ".py",
   "mimetype": "text/x-python",
   "name": "python",
   "nbconvert_exporter": "python",
   "pygments_lexer": "ipython3",
   "version": "3.13.3"
  }
 },
 "nbformat": 4,
 "nbformat_minor": 5
}
