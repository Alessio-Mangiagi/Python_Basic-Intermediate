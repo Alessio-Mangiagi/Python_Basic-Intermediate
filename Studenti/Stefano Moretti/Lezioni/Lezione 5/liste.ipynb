{
 "cells": [
  {
   "cell_type": "markdown",
   "id": "507e4c7c",
   "metadata": {},
   "source": [
    "Creiamo una lista di Tartarughe"
   ]
  },
  {
   "cell_type": "code",
   "execution_count": 2,
   "id": "991cd941",
   "metadata": {},
   "outputs": [
    {
     "name": "stdout",
     "output_type": "stream",
     "text": [
      "['Tartosso', 'Rughella', 'Gelsomina']\n"
     ]
    }
   ],
   "source": [
    "tartarughe = [\"Tartosso\", \"Rughella\", \"Gelsomina\"]\n",
    "print(tartarughe)"
   ]
  },
  {
   "cell_type": "markdown",
   "id": "d4c07a0a",
   "metadata": {},
   "source": [
    "Aggiungiamo 'Olu Mel"
   ]
  },
  {
   "cell_type": "code",
   "execution_count": 3,
   "id": "691713d5",
   "metadata": {},
   "outputs": [
    {
     "name": "stdout",
     "output_type": "stream",
     "text": [
      "['Tartosso', 'Rughella', 'Gelsomina', \"'Olu Mel\"]\n"
     ]
    }
   ],
   "source": [
    "tartarughe.append(\"'Olu Mel\")\n",
    "print(tartarughe)"
   ]
  },
  {
   "cell_type": "markdown",
   "id": "384883bf",
   "metadata": {},
   "source": [
    "Aggiungiamo Pallina (anche se non ci centra niente con le tartarughe)\n"
   ]
  },
  {
   "cell_type": "code",
   "execution_count": 4,
   "id": "b006f681",
   "metadata": {},
   "outputs": [
    {
     "name": "stdout",
     "output_type": "stream",
     "text": [
      "['Pallina', 'Tartosso', 'Rughella', 'Gelsomina', \"'Olu Mel\"]\n"
     ]
    }
   ],
   "source": [
    "tartarughe.insert(0, \"Pallina\")\n",
    "print(tartarughe)"
   ]
  },
  {
   "cell_type": "markdown",
   "id": "f8209658",
   "metadata": {},
   "source": [
    "Rimuoviamo 'Olu Mel e Gelsomina"
   ]
  },
  {
   "cell_type": "code",
   "execution_count": 5,
   "id": "00afe077",
   "metadata": {},
   "outputs": [
    {
     "name": "stdout",
     "output_type": "stream",
     "text": [
      "['Pallina', 'Tartosso', 'Rughella']\n"
     ]
    }
   ],
   "source": [
    "tartarughe.remove(\"'Olu Mel\")\n",
    "tartarughe.remove(\"Gelsomina\")\n",
    "print(tartarughe)"
   ]
  },
  {
   "cell_type": "markdown",
   "id": "56796747",
   "metadata": {},
   "source": [
    "Riaggiungiamoli con .extend"
   ]
  },
  {
   "cell_type": "code",
   "execution_count": 6,
   "id": "41ea3bb2",
   "metadata": {},
   "outputs": [
    {
     "name": "stdout",
     "output_type": "stream",
     "text": [
      "['Pallina', 'Tartosso', 'Rughella', 'Gelsomina', \"'Olu Mel\"]\n"
     ]
    }
   ],
   "source": [
    "tartarughe.extend([\"Gelsomina\", \"'Olu Mel\"])\n",
    "print(tartarughe)"
   ]
  },
  {
   "cell_type": "markdown",
   "id": "7e2253e8",
   "metadata": {},
   "source": [
    "Togliamo e ritorniamo 'Olu Mel"
   ]
  },
  {
   "cell_type": "code",
   "execution_count": 7,
   "id": "61eb77db",
   "metadata": {},
   "outputs": [
    {
     "data": {
      "text/plain": [
       "\"'Olu Mel\""
      ]
     },
     "execution_count": 7,
     "metadata": {},
     "output_type": "execute_result"
    }
   ],
   "source": [
    "tartarughe.pop(4)"
   ]
  }
 ],
 "metadata": {
  "kernelspec": {
   "display_name": "Python 3",
   "language": "python",
   "name": "python3"
  },
  "language_info": {
   "codemirror_mode": {
    "name": "ipython",
    "version": 3
   },
   "file_extension": ".py",
   "mimetype": "text/x-python",
   "name": "python",
   "nbconvert_exporter": "python",
   "pygments_lexer": "ipython3",
   "version": "3.13.3"
  }
 },
 "nbformat": 4,
 "nbformat_minor": 5
}
