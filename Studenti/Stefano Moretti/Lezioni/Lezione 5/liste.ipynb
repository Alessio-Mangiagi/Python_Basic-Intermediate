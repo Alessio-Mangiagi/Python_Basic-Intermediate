{
 "cells": [
  {
   "cell_type": "markdown",
   "id": "507e4c7c",
   "metadata": {},
   "source": [
    "Creiamo una lista di Tartarughe"
   ]
  },
  {
   "cell_type": "code",
   "execution_count": 3,
   "id": "991cd941",
   "metadata": {},
   "outputs": [
    {
     "name": "stdout",
     "output_type": "stream",
     "text": [
      "['Tartosso', 'Rughella', 'Gelsomina']\n"
     ]
    }
   ],
   "source": [
    "tartarughe = [\"Tartosso\", \"Rughella\", \"Gelsomina\"]\n",
    "print(tartarughe)"
   ]
  },
  {
   "cell_type": "markdown",
   "id": "d4c07a0a",
   "metadata": {},
   "source": [
    "Aggiungiamo 'Olu Mel"
   ]
  },
  {
   "cell_type": "code",
   "execution_count": 4,
   "id": "691713d5",
   "metadata": {},
   "outputs": [
    {
     "name": "stdout",
     "output_type": "stream",
     "text": [
      "['Tartosso', 'Rughella', 'Gelsomina', \"'Olu Mel\"]\n"
     ]
    }
   ],
   "source": [
    "tartarughe.append(\"'Olu Mel\") # .append() aggiunge un elemento alla fine della lista\n",
    "print(tartarughe)"
   ]
  },
  {
   "cell_type": "markdown",
   "id": "384883bf",
   "metadata": {},
   "source": [
    "Aggiungiamo Pallina (anche se non centra nulla con le tartarughe)\n"
   ]
  },
  {
   "cell_type": "code",
   "execution_count": 5,
   "id": "b006f681",
   "metadata": {},
   "outputs": [
    {
     "name": "stdout",
     "output_type": "stream",
     "text": [
      "['Pallina', 'Tartosso', 'Rughella', 'Gelsomina', \"'Olu Mel\"]\n"
     ]
    }
   ],
   "source": [
    "tartarughe.insert(0, \"Pallina\") # .insert() inserisce un elemento in una posizione specifica\n",
    "print(tartarughe)"
   ]
  },
  {
   "cell_type": "markdown",
   "id": "f8209658",
   "metadata": {},
   "source": [
    "Rimuoviamo 'Olu Mel e Gelsomina"
   ]
  },
  {
   "cell_type": "code",
   "execution_count": 6,
   "id": "00afe077",
   "metadata": {},
   "outputs": [
    {
     "name": "stdout",
     "output_type": "stream",
     "text": [
      "['Pallina', 'Tartosso', 'Rughella']\n"
     ]
    }
   ],
   "source": [
    "tartarughe.remove(\"'Olu Mel\") # .remove() rimuove il primo elemento che corrisponde al valore specificato\n",
    "tartarughe.remove(\"Gelsomina\")\n",
    "print(tartarughe)"
   ]
  },
  {
   "cell_type": "markdown",
   "id": "56796747",
   "metadata": {},
   "source": [
    "Riaggiungiamoli con .extend"
   ]
  },
  {
   "cell_type": "code",
   "execution_count": 7,
   "id": "41ea3bb2",
   "metadata": {},
   "outputs": [
    {
     "name": "stdout",
     "output_type": "stream",
     "text": [
      "['Pallina', 'Tartosso', 'Rughella', 'Gelsomina', \"'Olu Mel\"]\n"
     ]
    }
   ],
   "source": [
    "tartarughe.extend([\"Gelsomina\", \"'Olu Mel\"]) # .extend() aggiunge più elementi alla lista\n",
    "print(tartarughe)"
   ]
  },
  {
   "cell_type": "markdown",
   "id": "7e2253e8",
   "metadata": {},
   "source": [
    "Togliamo e ritorniamo 'Olu Mel"
   ]
  },
  {
   "cell_type": "code",
   "execution_count": 8,
   "id": "61eb77db",
   "metadata": {},
   "outputs": [
    {
     "name": "stdout",
     "output_type": "stream",
     "text": [
      "'Olu Mel è stato rimosso dalla lista.\n"
     ]
    }
   ],
   "source": [
    "\n",
    "rimosso = tartarughe.pop(4) # .pop() a differenza di remove restituisce l'elemento rimosso\n",
    "print(f\"{rimosso} è stato rimosso dalla lista.\")\n"
   ]
  },
  {
   "cell_type": "markdown",
   "id": "557c8d87",
   "metadata": {},
   "source": [
    "Stampa dall'elemento 0 e conta fino a 4"
   ]
  },
  {
   "cell_type": "code",
   "execution_count": 9,
   "id": "4dce5deb",
   "metadata": {},
   "outputs": [
    {
     "name": "stdout",
     "output_type": "stream",
     "text": [
      "['Pallina', 'Tartosso', 'Rughella', 'Gelsomina']\n"
     ]
    }
   ],
   "source": [
    "print(tartarughe[0:4]) # Stampa gli elementi dalla posizione 0 alla 3 (4 escluso)"
   ]
  },
  {
   "cell_type": "markdown",
   "id": "e300d72e",
   "metadata": {},
   "source": [
    "Ordiniamo la lista in ordine alfabetico"
   ]
  },
  {
   "cell_type": "code",
   "execution_count": 10,
   "id": "e086990f",
   "metadata": {},
   "outputs": [
    {
     "name": "stdout",
     "output_type": "stream",
     "text": [
      "['Gelsomina', 'Pallina', 'Rughella', 'Tartosso']\n"
     ]
    }
   ],
   "source": [
    "tartarughe.sort()\n",
    "print(tartarughe)"
   ]
  },
  {
   "cell_type": "markdown",
   "id": "e85fd998",
   "metadata": {},
   "source": [
    "Possiamo anche ordinare così, creando una nuova variabile con la lista ordinata"
   ]
  },
  {
   "cell_type": "code",
   "execution_count": 11,
   "id": "ee0a7181",
   "metadata": {},
   "outputs": [
    {
     "name": "stdout",
     "output_type": "stream",
     "text": [
      "['Gelsomina', 'Pallina', 'Rughella', 'Tartosso']\n"
     ]
    }
   ],
   "source": [
    "tartarughe_ordinate = sorted(tartarughe) # sorted() restituisce una nuova lista ordinata\n",
    "print(tartarughe_ordinate)"
   ]
  },
  {
   "cell_type": "markdown",
   "id": "00c0e58e",
   "metadata": {},
   "source": [
    "Crea una nuova variabile e inverte l'ordine, in ordine decrescente"
   ]
  },
  {
   "cell_type": "markdown",
   "id": "228c39a8",
   "metadata": {},
   "source": []
  },
  {
   "cell_type": "code",
   "execution_count": 18,
   "id": "4ee81983",
   "metadata": {},
   "outputs": [
    {
     "name": "stdout",
     "output_type": "stream",
     "text": [
      "[[0, 1, 2, 3, 4, 5], [5, 4, 3, 2, 1, 0]]\n"
     ]
    }
   ],
   "source": [
    "numeri = [0, 1, 2, 3, 4, 5]\n",
    "lista_numeri_inversi = numeri.copy() # .copy() crea una copia della lista\n",
    "lista_numeri_inversi.reverse() # .reverse() inverte l'ordine degli elementi nella lista\n",
    "liste = [numeri, lista_numeri_inversi] # Crea una lista di liste\n",
    "print(liste) # Stampa la lista di liste\n",
    "\n",
    "\n"
   ]
  },
  {
   "cell_type": "code",
   "execution_count": 13,
   "id": "7e6c157f",
   "metadata": {},
   "outputs": [
    {
     "name": "stdout",
     "output_type": "stream",
     "text": [
      "Lamentina non è presente nella lista delle tartarughe.\n"
     ]
    }
   ],
   "source": [
    "x = input(\"Quale tartaruga vuoi contare? \")\n",
    "contatore_indice = tartarughe.index(x) if x in tartarughe else -1 # .index() restituisce l'indice del primo elemento corrispondente, o -1 se non trovato\n",
    "if contatore_indice != -1:\n",
    "    print(f\"{x} è {contatore_indice}.\")\n",
    "else:\n",
    "    print(f\"{x} non è presente nella lista delle tartarughe.\")"
   ]
  },
  {
   "cell_type": "code",
   "execution_count": 23,
   "id": "df11364b",
   "metadata": {},
   "outputs": [
    {
     "name": "stdout",
     "output_type": "stream",
     "text": [
      "1\n",
      "1\n"
     ]
    }
   ],
   "source": [
    "print(lista_numeri_inversi.count(2)) # .count() restituisce il numero di occorrenze di un elemento nella lista\n",
    "print(tartarughe.index(\"Pallina\")) # Conta le occorrenze di \"Gelsomina\" nella lista delle tartarughe"
   ]
  }
 ],
 "metadata": {
  "kernelspec": {
   "display_name": "Python 3",
   "language": "python",
   "name": "python3"
  },
  "language_info": {
   "codemirror_mode": {
    "name": "ipython",
    "version": 3
   },
   "file_extension": ".py",
   "mimetype": "text/x-python",
   "name": "python",
   "nbconvert_exporter": "python",
   "pygments_lexer": "ipython3",
   "version": "3.13.3"
  }
 },
 "nbformat": 4,
 "nbformat_minor": 5
}
