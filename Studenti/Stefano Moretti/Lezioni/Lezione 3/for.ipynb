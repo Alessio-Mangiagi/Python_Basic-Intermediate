{
 "cells": [
  {
   "cell_type": "markdown",
   "id": "ae728262",
   "metadata": {},
   "source": [
    "Ciclo for"
   ]
  },
  {
   "cell_type": "code",
   "execution_count": 6,
   "id": "15f235b4",
   "metadata": {},
   "outputs": [
    {
     "name": "stdout",
     "output_type": "stream",
     "text": [
      "Tartaruga 1: Tartosso\n",
      "Tartaruga 2: Rughella\n",
      "Tartaruga 3: Gelsomina\n",
      "Tartaruga 4: Non binary\n"
     ]
    }
   ],
   "source": [
    "tartarughe = [\"Tartosso\", \"Rughella\", \"Gelsomina\", \"Non binary\"] #Creiamo una lista di tartarughe\n",
    "for i in range(len(tartarughe)):                   #\n",
    "    print(f\"Tartaruga {i+1}: {tartarughe[i]}\")"
   ]
  },
  {
   "cell_type": "markdown",
   "id": "aa9ba177",
   "metadata": {},
   "source": []
  },
  {
   "cell_type": "code",
   "execution_count": 7,
   "id": "f9254285",
   "metadata": {},
   "outputs": [
    {
     "name": "stdout",
     "output_type": "stream",
     "text": [
      "0\n",
      "2\n",
      "4\n"
     ]
    }
   ],
   "source": [
    "for i in range(0, 5, 2): #stampa da 0 a 4 con passo 2\n",
    "    print(i)"
   ]
  },
  {
   "cell_type": "code",
   "execution_count": 12,
   "id": "4a377dc6",
   "metadata": {},
   "outputs": [
    {
     "name": "stdout",
     "output_type": "stream",
     "text": [
      "Lettera 1: b\n",
      "Lettera 2: u\n",
      "Lettera 3: o\n",
      "Lettera 4: n\n",
      "Lettera 5: a\n",
      "Lettera 6: s\n",
      "Lettera 7: e\n",
      "Lettera 8: r\n",
      "Lettera 9: a\n"
     ]
    }
   ],
   "source": [
    "x = \"buonasera\"\n",
    "for index, lettera in enumerate(x):\n",
    "    print(f\"Lettera {index + 1}: {lettera}\")  "
   ]
  },
  {
   "cell_type": "code",
   "execution_count": 9,
   "id": "4de22c4d",
   "metadata": {},
   "outputs": [
    {
     "name": "stdout",
     "output_type": "stream",
     "text": [
      "['T', 'a', 'r', 't', 'o', 's', 's', 'o']\n"
     ]
    }
   ],
   "source": [
    "\n",
    "par = \"Tartosso\"\n",
    "nuova_par = []\n",
    "for letter in par:\n",
    "        nuova_par.append(letter)\n",
    "print(nuova_par)  # Stampa la lista con tutte le lettere ripetute\n",
    "    "
   ]
  },
  {
   "cell_type": "code",
   "execution_count": 10,
   "id": "e644e6d4",
   "metadata": {},
   "outputs": [
    {
     "name": "stdout",
     "output_type": "stream",
     "text": [
      "0\n",
      "1\n",
      "2\n",
      "3\n",
      "4\n"
     ]
    }
   ],
   "source": [
    "for i in range(10):\n",
    "    if i == 5:\n",
    "        break   # Quando i è 5, esce dal ciclo\n",
    "    print(i)  # Stampa i numeri da 0 a 4, poi esce dal ciclo quando i è 5"
   ]
  },
  {
   "cell_type": "code",
   "execution_count": 11,
   "id": "9aa5ed55",
   "metadata": {},
   "outputs": [
    {
     "name": "stdout",
     "output_type": "stream",
     "text": [
      "0\n",
      "1\n",
      "3\n",
      "4\n"
     ]
    }
   ],
   "source": [
    "for i in range(5):\n",
    "    if i == 2:\n",
    "        continue  # Quando i è 2, salta il resto del ciclo e passa al prossimo\n",
    "    print(i)  # Stampa i numeri da 0 a 4, saltando il 2"
   ]
  },
  {
   "cell_type": "code",
   "execution_count": null,
   "id": "5ed8245c",
   "metadata": {},
   "outputs": [],
   "source": []
  }
 ],
 "metadata": {
  "kernelspec": {
   "display_name": "Python 3",
   "language": "python",
   "name": "python3"
  },
  "language_info": {
   "codemirror_mode": {
    "name": "ipython",
    "version": 3
   },
   "file_extension": ".py",
   "mimetype": "text/x-python",
   "name": "python",
   "nbconvert_exporter": "python",
   "pygments_lexer": "ipython3",
   "version": "3.13.3"
  }
 },
 "nbformat": 4,
 "nbformat_minor": 5
}
