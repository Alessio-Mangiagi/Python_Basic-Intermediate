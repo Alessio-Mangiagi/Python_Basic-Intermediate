{
 "cells": [
  {
   "cell_type": "code",
   "execution_count": null,
   "id": "4d6b7994",
   "metadata": {},
   "outputs": [
    {
     "name": "stdout",
     "output_type": "stream",
     "text": [
      "{1, 2, 3, 4, 5}\n"
     ]
    },
    {
     "data": {
      "text/plain": [
       "set"
      ]
     },
     "execution_count": 9,
     "metadata": {},
     "output_type": "execute_result"
    }
   ],
   "source": [
    "# Non ordinato, non permette duplicati\n",
    "set = {1, 2, 3, 4, 5}\n",
    "print(set)\n",
    "type(set)"
   ]
  },
  {
   "cell_type": "code",
   "execution_count": null,
   "id": "7678af21",
   "metadata": {},
   "outputs": [
    {
     "name": "stdout",
     "output_type": "stream",
     "text": [
      "[1, 2, 3, 4, 5]\n"
     ]
    },
    {
     "data": {
      "text/plain": [
       "list"
      ]
     },
     "execution_count": 10,
     "metadata": {},
     "output_type": "execute_result"
    }
   ],
   "source": [
    "# Ordinato, permette duplicati\n",
    "lista = [1, 2, 3, 4, 5]\n",
    "print(lista)\n",
    "type(lista)"
   ]
  },
  {
   "cell_type": "code",
   "execution_count": null,
   "id": "2f656875",
   "metadata": {},
   "outputs": [
    {
     "name": "stdout",
     "output_type": "stream",
     "text": [
      "(1, 2, 3, 4, 5)\n"
     ]
    }
   ],
   "source": [
    "# Ordinato, permette duplicati ma a differenza della lista non è modificabile\n",
    "tupla = (1, 2, 3, 4, 5)\n",
    "print(tupla)\n",
    "type(tupla)"
   ]
  },
  {
   "cell_type": "code",
   "execution_count": null,
   "id": "90a583d4",
   "metadata": {},
   "outputs": [
    {
     "name": "stdout",
     "output_type": "stream",
     "text": [
      "{'nome': 'Stefano', 'cognome': 'Moretti', 'eta': 26}\n"
     ]
    },
    {
     "data": {
      "text/plain": [
       "dict"
      ]
     },
     "execution_count": 13,
     "metadata": {},
     "output_type": "execute_result"
    }
   ],
   "source": [
    "# Ordinato a chiave/valore, permette duplicati\n",
    "dizionario = {\"nome\": \"Stefano\", \"cognome\": \"Moretti\", \"eta\": 26}\n",
    "print(dizionario)\n",
    "type(dizionario)"
   ]
  }
 ],
 "metadata": {
  "kernelspec": {
   "display_name": "Python 3",
   "language": "python",
   "name": "python3"
  },
  "language_info": {
   "codemirror_mode": {
    "name": "ipython",
    "version": 3
   },
   "file_extension": ".py",
   "mimetype": "text/x-python",
   "name": "python",
   "nbconvert_exporter": "python",
   "pygments_lexer": "ipython3",
   "version": "3.13.3"
  }
 },
 "nbformat": 4,
 "nbformat_minor": 5
}
