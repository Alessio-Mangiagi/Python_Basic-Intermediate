{
 "cells": [
  {
   "cell_type": "code",
   "execution_count": 5,
   "id": "3af70890",
   "metadata": {},
   "outputs": [],
   "source": [
    "import csv\n",
    "with open(\n",
    "    \"file.txt\", \"w\", encoding=\"utf-8\"\n",
    ") as f:\n",
    "    f.write(\"Questo è un file.\\n\") # Scrive una riga nel file\n",
    "    f.close()\n",
    "\n",
    "righe = [\n",
    "    \"ecco la riga1 di prova\\n\",\n",
    "    \"ecco la riga2 di prova\\n\",\n",
    "    \"ecco la riga3 di prova\\n\",\n",
    "]"
   ]
  },
  {
   "cell_type": "markdown",
   "id": "d1361565",
   "metadata": {},
   "source": [
    "Aggiungiamo una riga a file.txt"
   ]
  },
  {
   "cell_type": "code",
   "execution_count": 25,
   "id": "e4b82b1c",
   "metadata": {},
   "outputs": [],
   "source": [
    "with open(\n",
    "    \"file.txt\", \"a\", encoding=\"utf-8\"\n",
    ") as f:\n",
    "    f.write(\"Aggiungiamo un'altra riga al file.\\n\")\n",
    "    f.writelines(righe)\n",
    "    f.flush() #forziamo la scrittura su disco\n",
    "    f.close()"
   ]
  },
  {
   "cell_type": "markdown",
   "id": "5e6f1206",
   "metadata": {},
   "source": [
    "Apri file modalità lettura"
   ]
  },
  {
   "cell_type": "code",
   "execution_count": 27,
   "id": "d28dc778",
   "metadata": {},
   "outputs": [
    {
     "name": "stdout",
     "output_type": "stream",
     "text": [
      "\"Category\",\"BEV\",\"PHEV\",\"H2\",\"LPG\",\"CNG\",\"LNG\"\n",
      "\"Austria\",2.08,0.74,0,0.01,0.12,\n",
      "\"Belgium\",1.11,2.67,0,0.36,0.22,\n",
      "\"Bulgaria\",0.14,0.06,,5.58,0.79,\n",
      "\"Croatia\",0.21,0.08,,2.81,0.01,\n",
      "\"Cyprus\",0.08,0.09,,0.03,,\n",
      "\"Czech Republic\",0.21,0.13,0,2.28,0.41,\n",
      "\"Denmark\",3.72,3.1,0.01,0,0.01,\n",
      "\"Estonia\",0.31,0.07,0,0.65,0.32,\n",
      "\"Finland\",1.16,2.49,0,0,0.39,\n",
      "\"France\",1.75,0.94,0,0.42,0.03,\n",
      "\"Germany\",1.99,1.79,0,0.68,0.19,\n",
      "\"Greece\",0.1,0.19,,3.43,0.08,\n",
      "\"Hungary\",0.72,0.32,,0.5,0.06,\n",
      "\"Iceland\",5.8,6.56,0.01,0,0.59,\n",
      "\"Ireland\",1.4,0.94,,0.02,0.01,\n",
      "\"Italy\",0.42,0.42,0,5.87,2.44,\n",
      "\"Latvia\",0.47,0.07,,5.86,0.03,\n",
      "\"Liechtenstein\",1.1,0.19,,0,,\n",
      "\"Lithuania\",0.43,0.28,0,5.92,0.05,0\n",
      "\"Luxembourg\",3.13,2.62,0,0.08,0.04,\n",
      "\"Malta\",0.78,0.76,,0.53,,\n",
      "\"Netherlands\",3.44,1.88,0.01,1.28,0.12,0\n",
      "\"Norway\",17.83,5.23,0.01,,0.02,\n",
      "\"Poland\",0.09,0.09,0,11.86,0.02,\n",
      "\"Portugal\",1.01,0.93,0,0.79,0,\n",
      "\"Romania\",0.27,0.1,,2.55,0,\n",
      "\"Slovakia\",0.17,0.15,0,1.78,0.12,\n",
      "\"Slovenia\",0.61,0.12,,0.91,0.03,\n",
      "\"Spain\",0.4,0.45,0,0.28,0.08,\n",
      "\"Sweden\",3.97,4.91,0,0,0.97,\n",
      "\"Switzerland\",2.21,1.39,0.01,0,0.32,\n",
      "\"Turkey\",0.08,0.01,,26.12,0,\n",
      "\"United Kingdom\",1.76,1.14,0,0.07,,\n",
      "[]\n"
     ]
    }
   ],
   "source": [
    "count = 0\n",
    "with open(\n",
    "    \"20240904_183206_export.csv\", \"r\", encoding=\"utf-8\"\n",
    ") as f: # Apre il file in modalità lettura\n",
    "    contenuto = f.read() # Legge tutto il contenuto del file\n",
    "    righelista = (f.readlines()) # Legge tutte le righe del file in una lista\n",
    "    #    \n",
    "    print(contenuto) # Stampa il contenuto del file\n",
    "    print(righelista) # Stampa la lista delle righe"
   ]
  },
  {
   "cell_type": "code",
   "execution_count": 6,
   "id": "93fde94c",
   "metadata": {},
   "outputs": [
    {
     "name": "stdout",
     "output_type": "stream",
     "text": [
      "['Category', 'BEV', 'PHEV', 'H2', 'LPG', 'CNG', 'LNG']\n",
      "['Austria', '2.08', '0.74', '0', '0.01', '0.12', '']\n",
      "['Belgium', '1.11', '2.67', '0', '0.36', '0.22', '']\n",
      "['Bulgaria', '0.14', '0.06', '', '5.58', '0.79', '']\n",
      "['Croatia', '0.21', '0.08', '', '2.81', '0.01', '']\n",
      "['Cyprus', '0.08', '0.09', '', '0.03', '', '']\n",
      "['Czech Republic', '0.21', '0.13', '0', '2.28', '0.41', '']\n",
      "['Denmark', '3.72', '3.1', '0.01', '0', '0.01', '']\n",
      "['Estonia', '0.31', '0.07', '0', '0.65', '0.32', '']\n",
      "['Finland', '1.16', '2.49', '0', '0', '0.39', '']\n",
      "['France', '1.75', '0.94', '0', '0.42', '0.03', '']\n",
      "['Germany', '1.99', '1.79', '0', '0.68', '0.19', '']\n",
      "['Greece', '0.1', '0.19', '', '3.43', '0.08', '']\n",
      "['Hungary', '0.72', '0.32', '', '0.5', '0.06', '']\n",
      "['Iceland', '5.8', '6.56', '0.01', '0', '0.59', '']\n",
      "['Ireland', '1.4', '0.94', '', '0.02', '0.01', '']\n",
      "['Italy', '0.42', '0.42', '0', '5.87', '2.44', '']\n",
      "['Latvia', '0.47', '0.07', '', '5.86', '0.03', '']\n",
      "['Liechtenstein', '1.1', '0.19', '', '0', '', '']\n",
      "['Lithuania', '0.43', '0.28', '0', '5.92', '0.05', '0']\n",
      "['Luxembourg', '3.13', '2.62', '0', '0.08', '0.04', '']\n",
      "['Malta', '0.78', '0.76', '', '0.53', '', '']\n",
      "['Netherlands', '3.44', '1.88', '0.01', '1.28', '0.12', '0']\n",
      "['Norway', '17.83', '5.23', '0.01', '', '0.02', '']\n",
      "['Poland', '0.09', '0.09', '0', '11.86', '0.02', '']\n",
      "['Portugal', '1.01', '0.93', '0', '0.79', '0', '']\n",
      "['Romania', '0.27', '0.1', '', '2.55', '0', '']\n",
      "['Slovakia', '0.17', '0.15', '0', '1.78', '0.12', '']\n",
      "['Slovenia', '0.61', '0.12', '', '0.91', '0.03', '']\n",
      "['Spain', '0.4', '0.45', '0', '0.28', '0.08', '']\n",
      "['Sweden', '3.97', '4.91', '0', '0', '0.97', '']\n",
      "['Switzerland', '2.21', '1.39', '0.01', '0', '0.32', '']\n",
      "['Turkey', '0.08', '0.01', '', '26.12', '0', '']\n",
      "['United Kingdom', '1.76', '1.14', '0', '0.07', '', '']\n"
     ]
    }
   ],
   "source": [
    "with open(\"20240904_183206_export.csv\", \"r\", encoding = \"utf-8\") as f:\n",
    "    reader = csv.reader(f)\n",
    "    for riga in reader:\n",
    "        print(riga)"
   ]
  }
 ],
 "metadata": {
  "kernelspec": {
   "display_name": "Python 3",
   "language": "python",
   "name": "python3"
  },
  "language_info": {
   "codemirror_mode": {
    "name": "ipython",
    "version": 3
   },
   "file_extension": ".py",
   "mimetype": "text/x-python",
   "name": "python",
   "nbconvert_exporter": "python",
   "pygments_lexer": "ipython3",
   "version": "3.13.3"
  }
 },
 "nbformat": 4,
 "nbformat_minor": 5
}
