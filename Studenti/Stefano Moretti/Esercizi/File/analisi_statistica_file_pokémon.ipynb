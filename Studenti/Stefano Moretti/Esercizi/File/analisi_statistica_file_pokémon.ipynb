{
 "cells": [
  {
   "cell_type": "code",
   "execution_count": 1,
   "id": "f520afb0",
   "metadata": {},
   "outputs": [],
   "source": [
    "import csv"
   ]
  },
  {
   "cell_type": "markdown",
   "id": "c1d43bdb",
   "metadata": {},
   "source": [
    "Prima di tutto proviamo a vedere l'header del file per capire se Python lo trova"
   ]
  },
  {
   "cell_type": "code",
   "execution_count": 2,
   "id": "fa940a00",
   "metadata": {},
   "outputs": [
    {
     "name": "stdout",
     "output_type": "stream",
     "text": [
      "Header: ['ï»¿Pokemon Id', 'Pokedex Number', 'Pokemon Name', 'Classification', 'Alternate Form Name', 'Original Pokemon ID', 'Legendary Type', 'Pokemon Height', 'Pokemon Weight', 'Primary Type', 'Secondary Type', 'Primary Ability', 'Primary Ability Description', 'Secondary Ability', 'Secondary Ability Description', 'Hidden Ability', 'Hidden Ability Description', 'Special Event Ability', 'Special Event Ability Description', 'Male Ratio', 'Female Ratio', 'Base Happiness', 'Game(s) of Origin', 'Health Stat', 'Attack Stat', 'Defense Stat', 'Special Attack Stat', 'Special Defense Stat', 'Speed Stat', 'Base Stat Total', 'Health EV', 'Attack EV', 'Defense EV', 'Special Attack EV', 'Special Defense EV', 'Speed EV', 'EV Yield Total', 'Catch Rate', 'Experience Growth', 'Experience Growth Total', 'Primary Egg Group', 'Secondary Egg Group', 'Egg Cycle Count', 'Pre-Evolution Pokemon Id', 'Evolution Details']\n"
     ]
    }
   ],
   "source": [
    "try:\n",
    "    with open(\"Pokemon Dataset.csv\", \"r\") as f:\n",
    "        reader = csv.reader(f)\n",
    "        header = next(reader)  # Read the header row\n",
    "        print(f\"Header: {header}\")\n",
    "except FileNotFoundError:\n",
    "    print(\"Il file inserito non esiste.\")\n",
    "except Exception as e:\n",
    "    print(f\"C'è stato un errore: {e}\")"
   ]
  },
  {
   "cell_type": "markdown",
   "id": "09945ce9",
   "metadata": {},
   "source": [
    "Contiamo le righe nel dataset"
   ]
  },
  {
   "cell_type": "code",
   "execution_count": 3,
   "id": "87279fb6",
   "metadata": {},
   "outputs": [
    {
     "name": "stdout",
     "output_type": "stream",
     "text": [
      "Numero di righe trovate nel dataset csv Pokémon: 1383\n"
     ]
    }
   ],
   "source": [
    "try:\n",
    "    with open(\"Pokemon Dataset.csv\", \"r\") as f:\n",
    "        reader = csv.reader(f)\n",
    "        row = sum(1 for line in reader)\n",
    "        print(f\"Numero di righe trovate nel dataset csv Pokémon: {row}\")\n",
    "except FileNotFoundError:\n",
    "    print(\"Il file inserito non esiste, quindi il conteggio non è andato a buon fine.\")\n",
    "except Exception as e:\n",
    "    print(f\"C'è stato un errore: {e}\")"
   ]
  },
  {
   "cell_type": "markdown",
   "id": "7a0e1cfa",
   "metadata": {},
   "source": [
    "E adesso contiamo le parole"
   ]
  },
  {
   "cell_type": "code",
   "execution_count": 4,
   "id": "7422fada",
   "metadata": {},
   "outputs": [
    {
     "name": "stdout",
     "output_type": "stream",
     "text": [
      "Numero di parole trovate nel dataset csv Pokémon: 62235\n"
     ]
    }
   ],
   "source": [
    "try:\n",
    "    with open(\"Pokemon Dataset.csv\", \"r\") as f:\n",
    "        reader = csv.reader(f)\n",
    "        words = sum(len(line) for line in reader)\n",
    "        print(f\"Numero di parole trovate nel dataset csv Pokémon: {words}\")\n",
    "except FileNotFoundError:\n",
    "    print(\"Il file inserito non esiste, quindi il conteggio non è andato a buon fine.\")\n",
    "except csv.Error as e:\n",
    "    print(f\"Errore nella lettura del file CSV: {e}\")\n",
    "except Exception as e:\n",
    "    print(f\"C'è stato un errore: {e}\")"
   ]
  }
 ],
 "metadata": {
  "kernelspec": {
   "display_name": "Python 3",
   "language": "python",
   "name": "python3"
  },
  "language_info": {
   "codemirror_mode": {
    "name": "ipython",
    "version": 3
   },
   "file_extension": ".py",
   "mimetype": "text/x-python",
   "name": "python",
   "nbconvert_exporter": "python",
   "pygments_lexer": "ipython3",
   "version": "3.13.3"
  }
 },
 "nbformat": 4,
 "nbformat_minor": 5
}
