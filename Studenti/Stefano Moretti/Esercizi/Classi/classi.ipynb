{
 "cells": [
  {
   "cell_type": "markdown",
   "id": "5fd67f42",
   "metadata": {},
   "source": [
    "Creiamo la classe persona con gli attributi nome, cognome ed età\n"
   ]
  },
  {
   "cell_type": "code",
   "execution_count": 1,
   "id": "79a5ef29",
   "metadata": {},
   "outputs": [],
   "source": [
    "class persona:\n",
    "    def __init__(self, nome, cognome, eta):\n",
    "        self.nome = nome\n",
    "        self.cognome = cognome\n",
    "        self.eta = eta\n",
    "    def saluta(self):\n",
    "        return f\"Ciao, sono {self.nome} {self.cognome} e ho {self.eta} anni.\""
   ]
  },
  {
   "cell_type": "markdown",
   "id": "a378c39c",
   "metadata": {},
   "source": [
    "Creiamo la variabile io con i miei dati come variabili e poi stampiamo"
   ]
  },
  {
   "cell_type": "code",
   "execution_count": 4,
   "id": "a96baa48",
   "metadata": {},
   "outputs": [
    {
     "name": "stdout",
     "output_type": "stream",
     "text": [
      "Ciao, sono Stefano Moretti e ho 26 anni.\n"
     ]
    }
   ],
   "source": [
    "io = persona(\"Stefano\", \"Moretti\", 26)\n",
    "print(io.saluta())"
   ]
  },
  {
   "cell_type": "markdown",
   "id": "f93b7812",
   "metadata": {},
   "source": [
    "Ora creiamo una classe studente che eredita gli attributi da persona e ne aggiunge degli altri"
   ]
  },
  {
   "cell_type": "code",
   "execution_count": null,
   "id": "94669988",
   "metadata": {},
   "outputs": [
    {
     "name": "stdout",
     "output_type": "stream",
     "text": [
      "Ciao, sono Marco Rossi e ho 22 anni. Il mio numero matricola è S12345, mi sono iscritto l'anno 2025 al corso di Computer Science con una media voti di 28.5.\n"
     ]
    }
   ],
   "source": [
    "\n",
    "    \n",
    "# \n",
    "class studente(persona):\n",
    "    def __init__(self, nome, cognome, eta, matricola, anno_iscrizione, corso, media_voti):\n",
    "        super().__init__(nome, cognome, eta)\n",
    "        self.matricola = matricola\n",
    "        self.anno_iscrizione = anno_iscrizione\n",
    "        self.corso = corso\n",
    "        self.media_voti = media_voti\n",
    "\n",
    "    def saluta(self):\n",
    "        return f\"{super().saluta()} Il mio numero matricola è {self.matricola}, mi sono iscritto l'anno {self.anno_iscrizione} al corso di {self.corso} con una media voti di {self.media_voti}.\"\n",
    "    "
   ]
  },
  {
   "cell_type": "markdown",
   "id": "9f5f7e0b",
   "metadata": {},
   "source": [
    "Adessso creiamo studente1 con i suoi oggetti"
   ]
  },
  {
   "cell_type": "code",
   "execution_count": 6,
   "id": "74894520",
   "metadata": {},
   "outputs": [
    {
     "name": "stdout",
     "output_type": "stream",
     "text": [
      "Ciao, sono Marco Rossi e ho 22 anni. Il mio numero matricola è S12345, mi sono iscritto l'anno 2025 al corso di Computer Science con una media voti di 28.5.\n"
     ]
    }
   ],
   "source": [
    "studente1 = studente(\"Marco\", \"Rossi\", 22, \"S12345\", 2025, \"Computer Science\", 28.5)\n",
    "print(studente1.saluta())"
   ]
  }
 ],
 "metadata": {
  "kernelspec": {
   "display_name": "Python 3",
   "language": "python",
   "name": "python3"
  },
  "language_info": {
   "codemirror_mode": {
    "name": "ipython",
    "version": 3
   },
   "file_extension": ".py",
   "mimetype": "text/x-python",
   "name": "python",
   "nbconvert_exporter": "python",
   "pygments_lexer": "ipython3",
   "version": "3.13.3"
  }
 },
 "nbformat": 4,
 "nbformat_minor": 5
}
