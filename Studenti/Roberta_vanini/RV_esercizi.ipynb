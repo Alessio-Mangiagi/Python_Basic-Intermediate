{
 "cells": [
  {
   "cell_type": "markdown",
   "id": "f7f9774d",
   "metadata": {},
   "source": [
    "## Random"
   ]
  },
  {
   "cell_type": "markdown",
   "id": "03594184",
   "metadata": {},
   "source": [
    "Scrivi un programma che chieda all'utente una stringa composta da un solo carattere e dica se si tratta di una vocale oppure no."
   ]
  },
  {
   "cell_type": "code",
   "execution_count": 1,
   "id": "41af6054",
   "metadata": {},
   "outputs": [
    {
     "name": "stdout",
     "output_type": "stream",
     "text": [
      "La lettera '' è una consonante\n"
     ]
    }
   ],
   "source": [
    "vocali = [\"a\", \"e\", \"i\", \"o\", \"u\"]\n",
    "\n",
    "lettera = input(\"Inserisci una lettera, ti dirò se è una vocale o consonante: \").lower()\n",
    "\n",
    "if lettera in vocali:\n",
    "     print(f\"La lettera '{lettera}' è una vocale\")\n",
    "else:\n",
    "    print(f\"La lettera '{lettera}' è una consonante\")"
   ]
  },
  {
   "cell_type": "markdown",
   "id": "fb5dd0e1",
   "metadata": {},
   "source": [
    "Usando il ciclo for scrivi un semplice programma che, data una lista di numeri, sommi tra loro tutti gli elementi."
   ]
  },
  {
   "cell_type": "code",
   "execution_count": 2,
   "id": "ebe8f89c",
   "metadata": {},
   "outputs": [
    {
     "ename": "ValueError",
     "evalue": "invalid literal for int() with base 10: ''",
     "output_type": "error",
     "traceback": [
      "\u001b[1;31m---------------------------------------------------------------------------\u001b[0m",
      "\u001b[1;31mValueError\u001b[0m                                Traceback (most recent call last)",
      "Cell \u001b[1;32mIn[2], line 4\u001b[0m\n\u001b[0;32m      1\u001b[0m numeri \u001b[38;5;241m=\u001b[39m []\n\u001b[0;32m      3\u001b[0m \u001b[38;5;28;01mfor\u001b[39;00m n \u001b[38;5;129;01min\u001b[39;00m \u001b[38;5;28mrange\u001b[39m(\u001b[38;5;241m5\u001b[39m):\n\u001b[1;32m----> 4\u001b[0m     n \u001b[38;5;241m=\u001b[39m \u001b[38;5;28mint\u001b[39m(\u001b[38;5;28minput\u001b[39m(\u001b[38;5;124m\"\u001b[39m\u001b[38;5;124mInserisci un numero: \u001b[39m\u001b[38;5;124m\"\u001b[39m))\n\u001b[0;32m      5\u001b[0m     numeri\u001b[38;5;241m.\u001b[39mappend(n)\n\u001b[0;32m      7\u001b[0m risultato \u001b[38;5;241m=\u001b[39m \u001b[38;5;241m0\u001b[39m\n",
      "\u001b[1;31mValueError\u001b[0m: invalid literal for int() with base 10: ''"
     ]
    }
   ],
   "source": [
    "numeri = []\n",
    "\n",
    "for n in range(5):\n",
    "    n = int(input(\"Inserisci un numero: \"))\n",
    "    numeri.append(n)\n",
    "\n",
    "risultato = 0\n",
    "for n in numeri:\n",
    "    risultato += n\n",
    "print(f\"La somma dei numeri {numeri} è \" + str(risultato))"
   ]
  },
  {
   "cell_type": "markdown",
   "id": "cb9462e6",
   "metadata": {},
   "source": [
    "Scrivi una semplice funzione che, data una lista di numeri, fornisca in output un istogramma basato su questi numeri, usando asterischi per disegnarlo. Inoltre ordina le barre dalla più piccola alla più grande."
   ]
  },
  {
   "cell_type": "code",
   "execution_count": null,
   "id": "989e4ad6",
   "metadata": {},
   "outputs": [
    {
     "name": "stdout",
     "output_type": "stream",
     "text": [
      "**\n",
      "***\n",
      "****\n",
      "*****\n",
      "************\n"
     ]
    }
   ],
   "source": [
    "numeri = []\n",
    "\n",
    "for n in range(5):\n",
    "    n = int(input(\"Inserisci un numero: \"))\n",
    "    numeri.append(n)\n",
    "\n",
    "\n",
    "\n",
    "def istogramma(lista):\n",
    "    lista.sort() # ordiniamoli\n",
    "    for n in lista:\n",
    "        print(\"*\" * n)\n",
    "\n",
    "istogramma(numeri)"
   ]
  },
  {
   "cell_type": "markdown",
   "id": "9d15608a",
   "metadata": {},
   "source": [
    "## Lezione 7"
   ]
  },
  {
   "cell_type": "markdown",
   "id": "51b0a45a",
   "metadata": {},
   "source": [
    "Esercizio su CLASSI e OOP:\n",
    "Crea una classe per i tuoi animali domestici, partendo da classe Animali e classi figlie cane e gatto.\n",
    "Ad ogni classe dai delle azioni da eseguire. "
   ]
  },
  {
   "cell_type": "code",
   "execution_count": null,
   "id": "7ee301eb",
   "metadata": {},
   "outputs": [
    {
     "name": "stdout",
     "output_type": "stream",
     "text": [
      "Il cane Medea dice: Bau Bau!\n",
      "Dici: 'Bravo!' Il cane Aura scondinzola e ti lecca\n",
      "Dici: 'A terra!' Il cane Argo si sdraia\n",
      "Il gatto Apollo dice: Miao!\n",
      "Dici: 'Seduto!' Il gatto Artemide ti ignora\n"
     ]
    }
   ],
   "source": [
    "class Animali:\n",
    "    def __init__(self, nome, eta):\n",
    "        self.nome = nome\n",
    "        self.eta = eta\n",
    "    \n",
    "    def parla(self):\n",
    "        print(f\"L'animale {self.nome} fa un verso!\")\n",
    "\n",
    "class Cane(Animali):\n",
    "    def parla(self):\n",
    "        print(f\"Il cane {self.nome} dice: Bau Bau!\")\n",
    "    \n",
    "    def seduto(self):\n",
    "        print(f\"Dici: 'Seduto!' Il cane {self.nome} si siede\")\n",
    "\n",
    "    def terra(self):\n",
    "        print(f\"Dici: 'A terra!' Il cane {self.nome} si sdraia\")\n",
    "\n",
    "    def bravo(self):\n",
    "        print(f\"Dici: 'Bravo!' Il cane {self.nome} scondinzola e ti lecca\")\n",
    "\n",
    "class Gatto(Animali):\n",
    "    def parla(self):\n",
    "        print(f\"Il gatto {self.nome} dice: Miao!\")\n",
    "    \n",
    "    def seduto(self):\n",
    "        print(f\"Dici: 'Seduto!' Il gatto {self.nome} ti ignora\")\n",
    "\n",
    "    def terra(self):\n",
    "        print(f\"Dici: 'A terra!' Il gatto {self.nome} ti ignora\")\n",
    "\n",
    "    def bravo(self):\n",
    "        print(f\"Dici: 'Bravo!' Il gatto {self.nome} ti ignora\")\n",
    "\n",
    "cane_aura = Cane(\"Aura\", 1)\n",
    "cane_medea = Cane(\"Medea\", 2)\n",
    "cane_argo = Cane(\"Argo\", 1)\n",
    "\n",
    "gatto_apollo = Gatto(\"Apollo\", 5)\n",
    "gatto_artemide = Gatto(\"Artemide\", 5)\n",
    "\n",
    "cane_medea.parla()\n",
    "cane_aura.bravo()\n",
    "cane_argo.terra()\n",
    "\n",
    "gatto_apollo.parla()\n",
    "gatto_artemide.seduto()"
   ]
  },
  {
   "cell_type": "markdown",
   "id": "c66b0936",
   "metadata": {},
   "source": [
    "## Lezione 8"
   ]
  },
  {
   "cell_type": "markdown",
   "id": "efc3c80f",
   "metadata": {},
   "source": []
  }
 ],
 "metadata": {
  "kernelspec": {
   "display_name": "base",
   "language": "python",
   "name": "python3"
  },
  "language_info": {
   "codemirror_mode": {
    "name": "ipython",
    "version": 3
   },
   "file_extension": ".py",
   "mimetype": "text/x-python",
   "name": "python",
   "nbconvert_exporter": "python",
   "pygments_lexer": "ipython3",
   "version": "3.12.7"
  }
 },
 "nbformat": 4,
 "nbformat_minor": 5
}
