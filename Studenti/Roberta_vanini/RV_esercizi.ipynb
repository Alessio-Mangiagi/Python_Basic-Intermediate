{
 "cells": [
  {
   "cell_type": "markdown",
   "id": "03594184",
   "metadata": {},
   "source": [
    "Scrivi un programma che chieda all'utente una stringa composta da un solo carattere e dica se si tratta di una vocale oppure no."
   ]
  },
  {
   "cell_type": "code",
   "execution_count": 4,
   "id": "41af6054",
   "metadata": {},
   "outputs": [
    {
     "name": "stdout",
     "output_type": "stream",
     "text": [
      "La lettera 'h' è una consonante\n"
     ]
    }
   ],
   "source": [
    "vocali = [\"a\", \"e\", \"i\", \"o\", \"u\"]\n",
    "\n",
    "lettera = input(\"Inserisci una lettera, ti dirò se è una vocale o consonante: \").lower()\n",
    "\n",
    "if lettera in vocali:\n",
    "     print(f\"La lettera '{lettera}' è una vocale\")\n",
    "else:\n",
    "    print(f\"La lettera '{lettera}' è una consonante\")"
   ]
  },
  {
   "cell_type": "markdown",
   "id": "fb5dd0e1",
   "metadata": {},
   "source": [
    "Usando il ciclo for scrivi un semplice programma che, data una lista di numeri, sommi tra loro tutti gli elementi."
   ]
  },
  {
   "cell_type": "code",
   "execution_count": 11,
   "id": "ebe8f89c",
   "metadata": {},
   "outputs": [
    {
     "name": "stdout",
     "output_type": "stream",
     "text": [
      "La somma dei numeri [3, 4, 12, 23, 1] è 43\n"
     ]
    }
   ],
   "source": [
    "numeri = []\n",
    "\n",
    "for n in range(5):\n",
    "    n = int(input(\"Inserisci un numero: \"))\n",
    "    numeri.append(n)\n",
    "\n",
    "risultato = 0\n",
    "for n in numeri:\n",
    "    risultato += n\n",
    "print(f\"La somma dei numeri {numeri} è \" + str(risultato))"
   ]
  },
  {
   "cell_type": "markdown",
   "id": "cb9462e6",
   "metadata": {},
   "source": [
    "Scrivi una semplice funzione che, data una lista di numeri, fornisca in output un istogramma basato su questi numeri, usando asterischi per disegnarlo. Inoltre ordina le barre dalla più piccola alla più grande."
   ]
  },
  {
   "cell_type": "code",
   "execution_count": 13,
   "id": "989e4ad6",
   "metadata": {},
   "outputs": [
    {
     "name": "stdout",
     "output_type": "stream",
     "text": [
      "**\n",
      "***\n",
      "****\n",
      "*****\n",
      "************\n"
     ]
    }
   ],
   "source": [
    "numeri = []\n",
    "\n",
    "for n in range(5):\n",
    "    n = int(input(\"Inserisci un numero: \"))\n",
    "    numeri.append(n)\n",
    "\n",
    "\n",
    "\n",
    "def istogramma(lista):\n",
    "    lista.sort() # ordiniamoli\n",
    "    for n in lista:\n",
    "        print(\"*\" * n)\n",
    "\n",
    "istogramma(numeri)"
   ]
  },
  {
   "cell_type": "markdown",
   "id": "9d15608a",
   "metadata": {},
   "source": [
    "### LEZIONE 7"
   ]
  },
  {
   "cell_type": "markdown",
   "id": "51b0a45a",
   "metadata": {},
   "source": [
    "Esercizio su CLASSI e OOP:\n",
    "Crea una classe per i tuoi animali domestici, partendo da classe Animali e classi figlie cane e gatto.\n",
    "Ad ogni classe dai delle azioni da eseguire. "
   ]
  },
  {
   "cell_type": "code",
   "execution_count": 12,
   "id": "7ee301eb",
   "metadata": {},
   "outputs": [
    {
     "name": "stdout",
     "output_type": "stream",
     "text": [
      "Il cane Medea dice: Bau Bau!\n",
      "Dici: 'Bravo!' Il cane Aura scondinzola e ti lecca\n",
      "Dici: 'A terra!' Il cane Argo si sdraia\n",
      "Il gatto Apollo dice: Miao!\n",
      "Dici: 'Seduto!' Il gatto Artemide ti ignora\n"
     ]
    }
   ],
   "source": [
    "class Animali:\n",
    "    def __init__(self, nome, eta):\n",
    "        self.nome = nome\n",
    "        self.eta = eta\n",
    "    \n",
    "    def parla(self):\n",
    "        print(f\"L'animale {self.nome} fa un verso!\")\n",
    "\n",
    "class Cane(Animali):\n",
    "    def parla(self):\n",
    "        print(f\"Il cane {self.nome} dice: Bau Bau!\")\n",
    "    \n",
    "    def seduto(self):\n",
    "        print(f\"Dici: 'Seduto!' Il cane {self.nome} si siede\")\n",
    "\n",
    "    def terra(self):\n",
    "        print(f\"Dici: 'A terra!' Il cane {self.nome} si sdraia\")\n",
    "\n",
    "    def bravo(self):\n",
    "        print(f\"Dici: 'Bravo!' Il cane {self.nome} scondinzola e ti lecca\")\n",
    "\n",
    "class Gatto(Animali):\n",
    "    def parla(self):\n",
    "        print(f\"Il gatto {self.nome} dice: Miao!\")\n",
    "    \n",
    "    def seduto(self):\n",
    "        print(f\"Dici: 'Seduto!' Il gatto {self.nome} ti ignora\")\n",
    "\n",
    "    def terra(self):\n",
    "        print(f\"Dici: 'A terra!' Il gatto {self.nome} ti ignora\")\n",
    "\n",
    "    def bravo(self):\n",
    "        print(f\"Dici: 'Bravo!' Il gatto {self.nome} ti ignora\")\n",
    "\n",
    "cane_aura = Cane(\"Aura\", 1)\n",
    "cane_medea = Cane(\"Medea\", 2)\n",
    "cane_argo = Cane(\"Argo\", 1)\n",
    "\n",
    "gatto_apollo = Gatto(\"Apollo\", 5)\n",
    "gatto_artemide = Gatto(\"Artemide\", 5)\n",
    "\n",
    "cane_medea.parla()\n",
    "cane_aura.bravo()\n",
    "cane_argo.terra()\n",
    "\n",
    "gatto_apollo.parla()\n",
    "gatto_artemide.seduto()"
   ]
  },
  {
   "cell_type": "markdown",
   "id": "7ffe6efd",
   "metadata": {},
   "source": [
    "Creazione di un piccolo gioco con input e le classi in cui puoi dare ordini ed interagire con gli animali.\n",
    "\n",
    "Input -> inserisce il tipo di animale ed il nome\n",
    "\n",
    "Classi -> vari animali hanno diverse reazioni agli ordini in base alla  classe"
   ]
  },
  {
   "cell_type": "code",
   "execution_count": 2,
   "id": "2e5b88e3",
   "metadata": {},
   "outputs": [
    {
     "name": "stdout",
     "output_type": "stream",
     "text": [
      "Dici: 'Seduto!' Il cane Aura si siede\n",
      "Dici: 'Seduto!' Il cane Aura si siede\n",
      "Dici: 'Seduto!' Il cane Aura si siede\n",
      "Dici: 'Bravo!' Il cane Aura scondinzola e ti lecca\n",
      "Dici: 'Bravo!' Il cane Aura scondinzola e ti lecca\n",
      "Non ho capito, le risposte accettate sono Y e N.\n",
      "Riprova.\n",
      "Non ho capito, le risposte accettate sono Y e N.\n",
      "Riprova.\n",
      "Aura ti osserva mentre ti allontani. Aspetterà il tuo ritorno.\n",
      "Aura ti osserva mentre ti allontani. Aspetterà il tuo ritorno.\n"
     ]
    }
   ],
   "source": [
    "class Animali:\n",
    "    def __init__(self, nome):\n",
    "        self.nome = nome\n",
    "    \n",
    "    def parla(self):\n",
    "        print(f\"L'animale {self.nome} fa un verso!\")\n",
    "\n",
    "class Cane(Animali):\n",
    "    def parla(self):\n",
    "        print(f\"Il cane {self.nome} dice: Bau Bau!\")\n",
    "    \n",
    "    def seduto(self):\n",
    "        print(f\"Dici: 'Seduto!' Il cane {self.nome} si siede\")\n",
    "\n",
    "    def terra(self):\n",
    "        print(f\"Dici: 'A terra!' Il cane {self.nome} si sdraia\")\n",
    "\n",
    "    def bravo(self):\n",
    "        print(f\"Dici: 'Bravo!' Il cane {self.nome} scondinzola e ti lecca\")\n",
    "\n",
    "class Gatto(Animali):\n",
    "    def parla(self):\n",
    "        print(f\"Il gatto {self.nome} dice: Miao!\")\n",
    "    \n",
    "    def seduto(self):\n",
    "        print(f\"Dici: 'Seduto!' Il gatto {self.nome} ti ignora\")\n",
    "\n",
    "    def terra(self):\n",
    "        print(f\"Dici: 'A terra!' Il gatto {self.nome} ti ignora\")\n",
    "\n",
    "    def bravo(self):\n",
    "        print(f\"Dici: 'Bravo!' Il gatto {self.nome} ti ignora\")\n",
    "\n",
    "class Pesce(Animali):\n",
    "    def parla(self):\n",
    "        print(f\"Il pesce {self.nome} boccheggia e ti osserva\")\n",
    "    \n",
    "    def seduto(self):\n",
    "        print(f\"Dici: 'Seduto!' Il pesce {self.nome} sembra confuso\")\n",
    "\n",
    "    def terra(self):\n",
    "        print(f\"Dici: 'A terra!' Il pesce {self.nome} guarda preoccupato il pavimento\")\n",
    "\n",
    "    def bravo(self):\n",
    "        print(f\"Dici: 'Bravo!' Il pesce {self.nome} nuota felice\")\n",
    "\n",
    "class Pappagallo(Animali):\n",
    "    def parla(self):\n",
    "        print(f\"Il pappagallo {self.nome} dice: 'Ciao WRAAA!\")\n",
    "    \n",
    "    def seduto(self):\n",
    "        print(f\"Dici: 'Seduto!' Il pappagallo {self.nome} si accuccia sul tavolo\")\n",
    "\n",
    "    def terra(self):\n",
    "        print(f\"Dici: 'A terra!' Il pappagallo {self.nome} vola sul pavimento\")\n",
    "\n",
    "    def bravo(self):\n",
    "        print(f\"Dici: 'Bravo!' Il pappagallo {self.nome} zompetta felice\")\n",
    "\n",
    "def il_mio_animale():\n",
    "    nome = input(\"Qual'è il nome del tuo animale? \")\n",
    "    specie = input(\"Di che specie è il tuo animale? \").lower()\n",
    "\n",
    "    animale = None\n",
    "    if specie == \"cane\":\n",
    "        animale = Cane(nome)\n",
    "    elif specie == \"gatto\":\n",
    "        animale = Gatto(nome)\n",
    "    elif specie == \"pesce\":\n",
    "        animale = Pesce(nome)\n",
    "    elif specie == \"pappagallo\":\n",
    "        animale = Pappagallo(nome)\n",
    "    else:\n",
    "        print(\"Specie non riconosciuta. Puoi scegliere tra: cane, gatto, pesce, pappagallo.\")\n",
    "        return\n",
    "\n",
    "    while True:\n",
    "        continua = input(f\"Vuoi dire qualcosa a {nome}? Y/N\").lower()\n",
    "        if continua == \"n\":\n",
    "            print(f\"{nome} ti osserva mentre ti allontani. Aspetterà il tuo ritorno.\")\n",
    "            break\n",
    "        elif continua == \"y\":\n",
    "            ordine = input(\n",
    "                f\"Ecco le interazioni possibili:\\n\"\n",
    "                \"parla\\nseduto\\nterra\\nbravo\\n\"\n",
    "                \"Scrivi il comando: \"\n",
    "            ).lower()\n",
    "            if ordine == \"parla\":\n",
    "                animale.parla()\n",
    "            elif ordine == \"seduto\":\n",
    "                animale.seduto()\n",
    "            elif ordine == \"terra\":\n",
    "                animale.terra()\n",
    "            elif ordine == \"bravo\":\n",
    "                animale.bravo()\n",
    "            else:\n",
    "                print(f\"{nome} è confuso. Non conosce quel comando.\\nProva ancora.\")\n",
    "        else:\n",
    "            print(f\"Non ho capito, le risposte accettate sono Y e N.\\nRiprova.\")\n",
    "\n",
    "il_mio_animale()"
   ]
  }
 ],
 "metadata": {
  "kernelspec": {
   "display_name": "base",
   "language": "python",
   "name": "python3"
  },
  "language_info": {
   "codemirror_mode": {
    "name": "ipython",
    "version": 3
   },
   "file_extension": ".py",
   "mimetype": "text/x-python",
   "name": "python",
   "nbconvert_exporter": "python",
   "pygments_lexer": "ipython3",
   "version": "3.12.7"
  }
 },
 "nbformat": 4,
 "nbformat_minor": 5
}
