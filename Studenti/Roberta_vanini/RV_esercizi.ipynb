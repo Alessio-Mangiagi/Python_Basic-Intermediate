{
 "cells": [
  {
   "cell_type": "markdown",
   "id": "03594184",
   "metadata": {},
   "source": [
    "Scrivi un programma che chieda all'utente una stringa composta da un solo carattere e dica se si tratta di una vocale oppure no."
   ]
  },
  {
   "cell_type": "code",
   "execution_count": 4,
   "id": "41af6054",
   "metadata": {},
   "outputs": [
    {
     "name": "stdout",
     "output_type": "stream",
     "text": [
      "La lettera 'h' è una consonante\n"
     ]
    }
   ],
   "source": [
    "vocali = [\"a\", \"e\", \"i\", \"o\", \"u\"]\n",
    "\n",
    "lettera = input(\"Inserisci una lettera, ti dirò se è una vocale o consonante: \").lower()\n",
    "\n",
    "if lettera in vocali:\n",
    "     print(f\"La lettera '{lettera}' è una vocale\")\n",
    "else:\n",
    "    print(f\"La lettera '{lettera}' è una consonante\")"
   ]
  },
  {
   "cell_type": "markdown",
   "id": "fb5dd0e1",
   "metadata": {},
   "source": [
    "Usando il ciclo for scrivi un semplice programma che, data una lista di numeri, sommi tra loro tutti gli elementi."
   ]
  },
  {
   "cell_type": "code",
   "execution_count": 11,
   "id": "ebe8f89c",
   "metadata": {},
   "outputs": [
    {
     "name": "stdout",
     "output_type": "stream",
     "text": [
      "La somma dei numeri [3, 4, 12, 23, 1] è 43\n"
     ]
    }
   ],
   "source": [
    "numeri = []\n",
    "\n",
    "for n in range(5):\n",
    "    n = int(input(\"Inserisci un numero: \"))\n",
    "    numeri.append(n)\n",
    "\n",
    "risultato = 0\n",
    "for n in numeri:\n",
    "    risultato += n\n",
    "print(f\"La somma dei numeri {numeri} è \" + str(risultato))"
   ]
  },
  {
   "cell_type": "markdown",
   "id": "cb9462e6",
   "metadata": {},
   "source": [
    "Scrivi una semplice funzione che, data una lista di numeri, fornisca in output un istogramma basato su questi numeri, usando asterischi per disegnarlo. Inoltre ordina le barre dalla più piccola alla più grande."
   ]
  },
  {
   "cell_type": "code",
   "execution_count": 13,
   "id": "989e4ad6",
   "metadata": {},
   "outputs": [
    {
     "name": "stdout",
     "output_type": "stream",
     "text": [
      "**\n",
      "***\n",
      "****\n",
      "*****\n",
      "************\n"
     ]
    }
   ],
   "source": [
    "numeri = []\n",
    "\n",
    "for n in range(5):\n",
    "    n = int(input(\"Inserisci un numero: \"))\n",
    "    numeri.append(n)\n",
    "\n",
    "\n",
    "\n",
    "def istogramma(lista):\n",
    "    lista.sort() # ordiniamoli\n",
    "    for n in lista:\n",
    "        print(\"*\" * n)\n",
    "\n",
    "istogramma(numeri)"
   ]
  }
 ],
 "metadata": {
  "kernelspec": {
   "display_name": "base",
   "language": "python",
   "name": "python3"
  },
  "language_info": {
   "codemirror_mode": {
    "name": "ipython",
    "version": 3
   },
   "file_extension": ".py",
   "mimetype": "text/x-python",
   "name": "python",
   "nbconvert_exporter": "python",
   "pygments_lexer": "ipython3",
   "version": "3.12.7"
  }
 },
 "nbformat": 4,
 "nbformat_minor": 5
}
