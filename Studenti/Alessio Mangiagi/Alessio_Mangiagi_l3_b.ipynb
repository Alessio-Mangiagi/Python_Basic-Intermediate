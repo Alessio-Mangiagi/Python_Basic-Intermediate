{
 "cells": [
  {
   "cell_type": "code",
   "execution_count": null,
   "id": "d82b8ef5",
   "metadata": {},
   "outputs": [
    {
     "name": "stdout",
     "output_type": "stream",
     "text": [
      "Studente numero 1 : giuseppe\n",
      "Studente numero 2 : gianluca\n",
      "Studente numero 3 : francesco\n"
     ]
    }
   ],
   "source": [
    "studenti = [\"giuseppe\", \"gianluca\", \"francesco\"]#il conteggio parte da 0\n",
    "for i in range(len(studenti)):\n",
    "    print(\"Studente numero\", i + 1, \":\", studenti[i])\n"
   ]
  },
  {
   "cell_type": "code",
   "execution_count": 13,
   "id": "43cc766f",
   "metadata": {},
   "outputs": [
    {
     "name": "stdout",
     "output_type": "stream",
     "text": [
      "Studente numero 1 :\n",
      "Studente numero 4 :\n",
      "Studente numero 7 :\n",
      "Studente numero 10 :\n",
      "Studente numero 13 :\n",
      "Studente numero 16 :\n",
      "Studente numero 19 :\n",
      "Studente numero 22 :\n",
      "Studente numero 25 :\n",
      "Studente numero 28 :\n",
      "Studente numero 31 :\n",
      "Studente numero 34 :\n",
      "Studente numero 37 :\n",
      "Studente numero 40 :\n",
      "Studente numero 43 :\n",
      "Studente numero 46 :\n",
      "Studente numero 49 :\n",
      "Studente numero 52 :\n",
      "Studente numero 55 :\n",
      "Studente numero 58 :\n",
      "Studente numero 61 :\n",
      "Studente numero 64 :\n",
      "Studente numero 67 :\n",
      "Studente numero 70 :\n",
      "Studente numero 73 :\n",
      "Studente numero 76 :\n",
      "Studente numero 79 :\n",
      "Studente numero 82 :\n",
      "Studente numero 85 :\n",
      "Studente numero 88 :\n",
      "Studente numero 91 :\n",
      "Studente numero 94 :\n",
      "Studente numero 97 :\n",
      "Studente numero 100 :\n"
     ]
    }
   ],
   "source": [
    "studenti = [\"giuseppe\", \"gianluca\", \"francesco\"]#il conteggio parte da 0\n",
    "for i in range(0, 100, len(studenti)):\n",
    "    print(\"Studente numero\", i + 1, \":\")\n"
   ]
  },
  {
   "cell_type": "code",
   "execution_count": 5,
   "id": "82201d0d",
   "metadata": {},
   "outputs": [
    {
     "name": "stdout",
     "output_type": "stream",
     "text": [
      "Studente numero 1 : giuseppe\n",
      "range(0, 5)\n",
      "Studente numero 2 : gianluca\n",
      "range(0, 5)\n",
      "Studente numero 3 : francesco\n",
      "range(0, 5)\n"
     ]
    }
   ],
   "source": [
    "studenti = [\"giuseppe\", \"gianluca\", \"francesco\"]#il conteggio parte da 0\n",
    "for i in range(len(studenti)):\n",
    "    print(\"Studente numero\", i + 1, \":\", studenti[i])\n",
    "    print(range (0, 5))"
   ]
  },
  {
   "cell_type": "code",
   "execution_count": 15,
   "id": "c9fa914c",
   "metadata": {},
   "outputs": [
    {
     "name": "stdout",
     "output_type": "stream",
     "text": [
      "0\n",
      "2\n",
      "4\n"
     ]
    }
   ],
   "source": [
    "for i in range(0, 5, 2):\n",
    "    print(i)\n",
    "    #da 0 a 5 saltando di 2 in 2\n",
    "    type(range)"
   ]
  },
  {
   "cell_type": "code",
   "execution_count": 10,
   "id": "860027b6",
   "metadata": {},
   "outputs": [
    {
     "name": "stdout",
     "output_type": "stream",
     "text": [
      "0\n",
      "1\n",
      "2\n",
      "3\n",
      "4\n",
      "5\n",
      "6\n",
      "7\n",
      "8\n",
      "9\n"
     ]
    }
   ],
   "source": [
    "for i in range(0, 10, 1):\n",
    "    print(i)"
   ]
  },
  {
   "cell_type": "code",
   "execution_count": null,
   "id": "714e1026",
   "metadata": {},
   "outputs": [],
   "source": [
    "'''x = \"buonasera\" # stringa\n",
    "for index, lettera in enumerate(x):  #range(start, stop)\n",
    "    print(f\"{index}: {lettera}\") # Stampa l'indice e la lettera corrente\n",
    "    '''"
   ]
  },
  {
   "cell_type": "code",
   "execution_count": 28,
   "id": "fd5974b6",
   "metadata": {},
   "outputs": [
    {
     "name": "stdout",
     "output_type": "stream",
     "text": [
      "['b', 'u', 'o', 'n', 'a', 's', 'e', 'r', 'a']\n"
     ]
    }
   ],
   "source": [
    "\n",
    "par = \"buonasera\"\n",
    "nuova_par = []  # stringa\n",
    "\n",
    "for letter in par:\n",
    "    nuova_par.append(letter)\n",
    "    \n",
    "\"\".join(nuova_par)  # Stampa ogni lettera della stringa\n",
    "\n",
    "print(nuova_par)  # Stampa la lista di lettere"
   ]
  },
  {
   "cell_type": "code",
   "execution_count": null,
   "id": "6b40e65a",
   "metadata": {},
   "outputs": [],
   "source": [
    "set = {1, 8, 7, 4, 11} #insieme di numeri non ordinati\n",
    "lista = [1, 2, 3, 4, 5] #lista di numeri\n",
    "tupla = (1, 2, 3, 4, 5) #tupla di numeri ordinati non modificabile\n",
    "dizionario = {\"nome\": \"Alessio\", \"cognome\": \"Mangiagi\", \"età\": 35} #dizionario con chiavi e valori\n",
    "esimo = 0\n",
    "print(f\"set: {set},\\n Lista: {lista[esimo]},\\n Tupla: {tupla[esimo]},\\n Dizionario: {dizionario ['nome']}\") #stampa i valori delle variabili\n",
    "\n"
   ]
  },
  {
   "cell_type": "code",
   "execution_count": null,
   "id": "88e886c3",
   "metadata": {},
   "outputs": [],
   "source": [
    "def calcolatrice(): \n",
    "    print(\"Benvenuto\")\n",
    "    \n",
    "   \n",
    "    x = True\n",
    "\n",
    "    numero_1 = input(\"dimmi il primo numero: \")  \n",
    "    numero_2 = input(\"dimmi il secondo numero: \") \n",
    "\n",
    "    while x:\n",
    "        decisione = input(\"Scegli un'operazione:\\n(1) Somma\\n)2) Sottrazione\\n(3) Moltiplicazione\\n(4) Divisione\\n\")\n",
    "\n",
    "        if decisione == \"1\":\n",
    "            print(\"eseguo la somma\")\n",
    "            \n",
    "            somma = float(numero_1) + float(numero_2 )\n",
    "            print(f\"la somma è {somma}\\n\")   \n",
    "        elif decisione == \"2\":\n",
    "            print(\"eseguo la sottrazione\")\n",
    "            \n",
    "            sottrazione = float(numero_1) - float(numero_2)\n",
    "            print(f\"la sottrazione è {sottrazione}\\n\")\n",
    "        elif decisione == \"3\":\n",
    "            print(\"eseguo la moltiplicazione\")\n",
    "           \n",
    "            moltiplicazione = float(numero_1) * float(numero_2)\n",
    "            print(f\"la moltiplicazione è {moltiplicazione}\\n\")\n",
    "        elif decisione == \"4\":\n",
    "            print(\"eseguo la divisione\")\n",
    "            \n",
    "            if numero_2 != \"0\":\n",
    "                divisione = float(numero_1) / float(numero_2)\n",
    "                print(f\"la divisione è {divisione}\\n\")\n",
    "            else:\n",
    "                print(\"non si può inserire zero\")\n",
    "        else: \n",
    "            print(\"il valore inserito non è riconosciuto\")\n",
    "        y = continua\n",
    "        while y:\n",
    "            continua= input(\"Vuoi continuare? (si/no): \").lower()\n",
    "            if continua.lower() == \"si\":\n",
    "                print(\"\\n\\n\\n\\n\\n\\n\\n\\n\\n\")\n",
    "                x = False  \n",
    "                print(\"\\n\\n\\n\\n\\n\\n\\n\\n\\n\")\n",
    "            elif continua.lower()== \"no\":\n",
    "                x = False\n",
    "                y = False\n",
    "                print(\"\\n\\n\\n\\n\\n\\n\\n\\n\\n\")\n",
    "                print(\"Grazie per aver usato la calcolatrice!\") \n",
    "            else:\n",
    "                x = False\n",
    "                print(\"scusa non ho capito\")\n",
    "\n",
    "calcolatrice()"
   ]
  },
  {
   "cell_type": "code",
   "execution_count": 2,
   "id": "d8d8a793",
   "metadata": {},
   "outputs": [
    {
     "name": "stdout",
     "output_type": "stream",
     "text": [
      "La somma delle due liste è: [7, 9, 11, 13, 15]\n"
     ]
    }
   ],
   "source": [
    "lista1 =  [1, 2, 3, 4, 5]\n",
    "lista2 = [6, 7, 8, 9, 10]   \n",
    "lista3 = []  # Lista vuota per memorizzare i risultati\n",
    "for i in range(len(lista1)):\n",
    "    somma = lista1[i] + lista2[i]\n",
    "    lista3.append(somma)\n",
    "print(\"La somma delle due liste è:\", lista3)  # Stampa la lista con i risultati della somma"
   ]
  },
  {
   "cell_type": "code",
   "execution_count": 1,
   "id": "e9755001",
   "metadata": {},
   "outputs": [
    {
     "name": "stdout",
     "output_type": "stream",
     "text": [
      "La media delle due liste è: [1.4, 1.8, 2.2, 2.6, 3.0]\n"
     ]
    }
   ],
   "source": [
    "lista4 = [1, 2, 3, 4, 5]\n",
    "lista5 = [6, 7, 8, 9, 10]\n",
    "lista6 = []  # Lista vuota per memorizzare i risultati\n",
    "for i in range(len(lista4)):\n",
    "    media = ((lista4[i] + lista5[i])/5)\n",
    "    lista6.append(media)\n",
    "print(\"La media delle due liste è:\", lista6)  # Stampa la lista con i risultati della media"
   ]
  },
  {
   "cell_type": "code",
   "execution_count": null,
   "id": "475d5f70",
   "metadata": {},
   "outputs": [],
   "source": []
  }
 ],
 "metadata": {
  "kernelspec": {
   "display_name": "Python 3",
   "language": "python",
   "name": "python3"
  },
  "language_info": {
   "codemirror_mode": {
    "name": "ipython",
    "version": 3
   },
   "file_extension": ".py",
   "mimetype": "text/x-python",
   "name": "python",
   "nbconvert_exporter": "python",
   "pygments_lexer": "ipython3",
   "version": "3.12.1"
  }
 },
 "nbformat": 4,
 "nbformat_minor": 5
}
