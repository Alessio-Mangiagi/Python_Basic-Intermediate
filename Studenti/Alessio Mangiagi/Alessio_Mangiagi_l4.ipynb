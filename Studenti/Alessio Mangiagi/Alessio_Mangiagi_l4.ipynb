{
 "cells": [
  {
   "cell_type": "markdown",
   "id": "b6f8251d",
   "metadata": {},
   "source": [
    "lezione 4 29/5/25\n"
   ]
  },
  {
   "cell_type": "code",
   "execution_count": 1,
   "id": "a0413887",
   "metadata": {},
   "outputs": [
    {
     "name": "stdout",
     "output_type": "stream",
     "text": [
      "funzione_interna: local\n",
      "funzione_esterna: local\n",
      "global: global\n",
      "funzione_build_in: 5\n"
     ]
    }
   ],
   "source": [
    "x = \"global\"\n",
    "def funzione_esterna():\n",
    "    x = \"nonlocal\"\n",
    "    def funzione_interna():\n",
    "        nonlocal x\n",
    "        x = \"local\"\n",
    "        print(\"funzione_interna:\", x)\n",
    "    funzione_interna()\n",
    "    print(\"funzione_esterna:\", x)\n",
    "\n",
    "def funzone_senza_local():\n",
    "    print(\"global:\", x)\n",
    "      \n",
    "\n",
    "def funzione_build_in():\n",
    "    print(\"funzione_build_in:\", len([1, 2, 3, 4, 5]))\n",
    "\n",
    "funzione_esterna()\n",
    "funzone_senza_local()\n",
    "funzione_build_in() "
   ]
  },
  {
   "cell_type": "code",
   "execution_count": null,
   "id": "b73b874c",
   "metadata": {},
   "outputs": [],
   "source": []
  }
 ],
 "metadata": {
  "kernelspec": {
   "display_name": "Python 3",
   "language": "python",
   "name": "python3"
  },
  "language_info": {
   "codemirror_mode": {
    "name": "ipython",
    "version": 3
   },
   "file_extension": ".py",
   "mimetype": "text/x-python",
   "name": "python",
   "nbconvert_exporter": "python",
   "pygments_lexer": "ipython3",
   "version": "3.12.1"
  }
 },
 "nbformat": 4,
 "nbformat_minor": 5
}
