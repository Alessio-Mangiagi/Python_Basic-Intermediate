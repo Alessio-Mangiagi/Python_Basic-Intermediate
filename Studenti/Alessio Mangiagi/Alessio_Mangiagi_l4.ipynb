{
 "cells": [
  {
   "cell_type": "markdown",
   "id": "b6f8251d",
   "metadata": {},
   "source": [
    "lezione 4 29/5/25\n"
   ]
  },
  {
   "cell_type": "code",
   "execution_count": null,
   "id": "a0413887",
   "metadata": {
    "vscode": {
     "languageId": "plaintext"
    }
   },
   "outputs": [],
   "source": []
  }
 ],
 "metadata": {
  "language_info": {
   "name": "python"
  }
 },
 "nbformat": 4,
 "nbformat_minor": 5
}
