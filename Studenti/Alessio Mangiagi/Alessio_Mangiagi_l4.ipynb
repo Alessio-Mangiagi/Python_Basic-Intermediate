{
 "cells": [
  {
   "cell_type": "markdown",
   "id": "b6f8251d",
   "metadata": {},
   "source": [
    "lezione 4 29/5/25\n"
   ]
  },
  {
   "cell_type": "code",
   "execution_count": 1,
   "id": "a0413887",
   "metadata": {},
   "outputs": [
    {
     "name": "stdout",
     "output_type": "stream",
     "text": [
      "funzione_interna: local\n",
      "funzione_esterna: local\n",
      "global: global\n",
      "funzione_build_in: 5\n"
     ]
    }
   ],
   "source": [
    "x = \"global\"\n",
    "def funzione_esterna():\n",
    "    x = \"nonlocal\"\n",
    "    def funzione_interna():\n",
    "        nonlocal x\n",
    "        x = \"local\"\n",
    "        print(\"funzione_interna:\", x)\n",
    "    funzione_interna()\n",
    "    print(\"funzione_esterna:\", x)\n",
    "\n",
    "def funzone_senza_local():\n",
    "    print(\"global:\", x)\n",
    "      \n",
    "\n",
    "def funzione_build_in():\n",
    "    print(\"funzione_build_in:\", len([1, 2, 3, 4, 5]))\n",
    "\n",
    "funzione_esterna()\n",
    "funzone_senza_local()\n",
    "funzione_build_in() "
   ]
  },
  {
   "cell_type": "code",
   "execution_count": 2,
   "id": "b73b874c",
   "metadata": {},
   "outputs": [
    {
     "name": "stdout",
     "output_type": "stream",
     "text": [
      "Carlotta 30\n",
      "Giulia 40\n"
     ]
    }
   ],
   "source": [
    "class persone:\n",
    "    def __init__(self, nome, cognome):#costruttore\n",
    "        self.nome = nome\n",
    "        self.cognome = cognome\n",
    "\n",
    "    def __str__(self):\n",
    "        return f\"{self.nome} {self.cognome}\"\n",
    "\n",
    "    def __repr__(self):\n",
    "        return f\"Persone({self.nome!r}, {self.cognome!r})\" #!r rappresentazione leggibile\n",
    "\n",
    "persona1 = persone(\"Carlotta\", \"30\")\n",
    "print(persona1)  # Output: Mario 30\n",
    "\n",
    "if __name__ == \"__main__\":\n",
    "    p= persone(\"Giulia\", \"40\")\n",
    "    print(p)  # Output: Luigi 40"
   ]
  },
  {
   "cell_type": "code",
   "execution_count": 3,
   "id": "21292b27",
   "metadata": {},
   "outputs": [],
   "source": [
    "import toolbox_AM"
   ]
  },
  {
   "cell_type": "code",
   "execution_count": 6,
   "id": "9fb4b39e",
   "metadata": {},
   "outputs": [
    {
     "name": "stdout",
     "output_type": "stream",
     "text": [
      "Numero di vocali: 5\n"
     ]
    }
   ],
   "source": [
    "contavovali = toolbox_AM.conta_vocali(\"Ciao Mondo\")\n",
    "print(\"Numero di vocali:\", contavovali)  # Output: Numero di vocali: 5"
   ]
  }
 ],
 "metadata": {
  "kernelspec": {
   "display_name": "Python 3",
   "language": "python",
   "name": "python3"
  },
  "language_info": {
   "codemirror_mode": {
    "name": "ipython",
    "version": 3
   },
   "file_extension": ".py",
   "mimetype": "text/x-python",
   "name": "python",
   "nbconvert_exporter": "python",
   "pygments_lexer": "ipython3",
   "version": "3.12.1"
  }
 },
 "nbformat": 4,
 "nbformat_minor": 5
}
