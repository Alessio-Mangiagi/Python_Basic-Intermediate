{
 "cells": [
  {
   "cell_type": "markdown",
   "id": "923cb0a8",
   "metadata": {},
   "source": [
    "Lezione 5 29/5/25"
   ]
  },
  {
   "cell_type": "code",
   "execution_count": 4,
   "id": "d5d9714b",
   "metadata": {},
   "outputs": [
    {
     "name": "stdout",
     "output_type": "stream",
     "text": [
      "[1, 2, 3, 4, 5, 6, 7, 8, 9, 29]\n",
      "[1, 2, 3, 4, 5, 6, 7, 8, 9, 29]\n",
      "['anna', 'giovanni', 'lessa', 'luigi', 'mario']\n"
     ]
    }
   ],
   "source": [
    "lista_numeri=[1, 2, 3, 4, 5, 6, 7, 8, 9, 10]\n",
    "lista_numeri.pop(9)\n",
    "lista_numeri.append(29)\n",
    "print(lista_numeri)\n",
    "lista_numeri.sort()\n",
    "print(lista_numeri)\n",
    "lista_persone=[\"lessa\", \"mario\", \"giovanni\", \"anna\", \"luigi\"]\n",
    "lista_persone.sort()\n",
    "print(lista_persone)"
   ]
  },
  {
   "cell_type": "code",
   "execution_count": 5,
   "id": "0a1bfad6",
   "metadata": {},
   "outputs": [
    {
     "name": "stdout",
     "output_type": "stream",
     "text": [
      "[[1, 4, 9, 16, 25, 36, 49, 64, 81, 841], [1, 4, 9, 16, 25, 36, 49, 64, 81, 841], [1, 4, 9, 16, 25, 36, 49, 64, 81, 841], [1, 4, 9, 16, 25, 36, 49, 64, 81, 841], [1, 4, 9, 16, 25, 36, 49, 64, 81, 841]]\n"
     ]
    }
   ],
   "source": [
    "listona_potenze = [[n**2 for n in lista_numeri]for persona in lista_persone]\n",
    "print(listona_potenze)"
   ]
  },
  {
   "cell_type": "code",
   "execution_count": null,
   "id": "31ada81a",
   "metadata": {},
   "outputs": [
    {
     "name": "stdout",
     "output_type": "stream",
     "text": [
      "[[4, 16, 36, 64], [4, 16, 36, 64], [4, 16, 36, 64], [4, 16, 36, 64], [4, 16, 36, 64]]\n"
     ]
    }
   ],
   "source": [
    "listona_potenze = [[n**2 for n in lista_numeri if n % 2 == 0] for persona in lista_persone]#il modulo mantiene solo i numeri pari perchè tiene solo il valore senza resto\n",
    "print(listona_potenze)#solo numeri pari"
   ]
  },
  {
   "cell_type": "markdown",
   "id": "f4800db6",
   "metadata": {},
   "source": [
    "#tupla"
   ]
  },
  {
   "cell_type": "code",
   "execution_count": null,
   "id": "7f7ba783",
   "metadata": {},
   "outputs": [
    {
     "name": "stdout",
     "output_type": "stream",
     "text": [
      "Tupla: 4, 5, 6\n"
     ]
    }
   ],
   "source": [
    "#tupla\n",
    "x, y, z = (1,2,3)\n",
    "x, y, z = (4, 5, 6)\n",
    "\n",
    "print(f\"Tupla: {x}, {y}, {z}\")\n",
    "\n"
   ]
  },
  {
   "cell_type": "code",
   "execution_count": null,
   "id": "7b427f1d",
   "metadata": {},
   "outputs": [
    {
     "name": "stdout",
     "output_type": "stream",
     "text": [
      "{1, 2, 3, 4, 5, 6, 7, 8, 9, 10}\n",
      "{'j', 'b', 'i', 'f', 'e', 'd', 'g', 'a', 'h', 'c'}\n"
     ]
    }
   ],
   "source": [
    "numeri = {1, 2, 3, 4, 5, 6, 7, 8, 9, 10}\n",
    "numeri.add(11)  # Aggiunge un elemento\n",
    "numeri.remove(5)  # Rimuove un elemento\n",
    "numeri.discard(3)  # Rimuove un elemento senza sollevare un'eccezione se non esiste \n",
    "numeri.clear()  # Rimuove tutti gli elementi\n",
    "lettere = {'a', 'b', 'c', 'd', 'e', 'f', 'g', 'h', 'i', 'j'}\n",
    "lettere_set = {'k', 'l', 'm', 'n', 'o', 'p', 'q', 'r', 's', 't'}\n",
    "lettere_set= frozenset({2,5,8,10,12,14,16,18,20}) #frozen set è un set immutabile\n",
    "print(numeri)\n",
    "print(lettere)"
   ]
  },
  {
   "cell_type": "code",
   "execution_count": 2,
   "id": "b9a865c4",
   "metadata": {},
   "outputs": [
    {
     "name": "stdout",
     "output_type": "stream",
     "text": [
      "Nomi inseriti: ['giada', 'maria ', 'giovanni', 'pamela', 'giulia']\n"
     ]
    }
   ],
   "source": [
    "lista_nomi_inseriti= []\n",
    "max_nomi = 5\n",
    "# Ciclo per inserire nomi fino a un massimo di 5\n",
    "while len(lista_nomi_inseriti) < max_nomi:\n",
    "    nome = input(\"Inserisci un nome (o 'fine' per terminare): \")\n",
    "    if nome.lower() == 'fine':\n",
    "        break\n",
    "    lista_nomi_inseriti.append(nome)\n",
    "print(\"Nomi inseriti:\", lista_nomi_inseriti)\n"
   ]
  },
  {
   "cell_type": "code",
   "execution_count": null,
   "id": "abd1eda4",
   "metadata": {},
   "outputs": [],
   "source": [
    "lista_nomi=[]\n",
    "lunghezza_lista = 5\n",
    "\n",
    "for listanomi in range(lunghezza_lista):\n",
    "    nome = input(\"Inserisci un nome: \")\n"
   ]
  },
  {
   "cell_type": "code",
   "execution_count": null,
   "id": "cb65545a",
   "metadata": {},
   "outputs": [],
   "source": [
    "lista_nomi1= []\n",
    "lista_nomi_inseriti = lista_nomi1.copy() \n",
    "lista_nomi.insert(2, \"luca\") \n",
    "lista_nomi.append(\"marco\") \n",
    "print(\"Nomi inseriti:\", lista_nomi_inseriti)# Inserisce il nome all'inizio della lista"
   ]
  },
  {
   "cell_type": "code",
   "execution_count": null,
   "id": "dec2a6a5",
   "metadata": {},
   "outputs": [],
   "source": []
  },
  {
   "cell_type": "code",
   "execution_count": null,
   "id": "9c499a76",
   "metadata": {},
   "outputs": [],
   "source": []
  }
 ],
 "metadata": {
  "kernelspec": {
   "display_name": "Python 3",
   "language": "python",
   "name": "python3"
  },
  "language_info": {
   "codemirror_mode": {
    "name": "ipython",
    "version": 3
   },
   "file_extension": ".py",
   "mimetype": "text/x-python",
   "name": "python",
   "nbconvert_exporter": "python",
   "pygments_lexer": "ipython3",
   "version": "3.12.1"
  }
 },
 "nbformat": 4,
 "nbformat_minor": 5
}
