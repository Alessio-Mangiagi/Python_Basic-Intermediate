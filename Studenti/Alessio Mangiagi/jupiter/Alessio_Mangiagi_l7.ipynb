{
 "cells": [
  {
   "cell_type": "markdown",
   "id": "4b2dc6ee",
   "metadata": {},
   "source": [
    "lezione 7 4/6/25 init e programmazione an ogetti"
   ]
  },
  {
   "cell_type": "code",
   "execution_count": null,
   "id": "20b60077",
   "metadata": {},
   "outputs": [
    {
     "ename": "SyntaxError",
     "evalue": "expected ':' (3652160311.py, line 9)",
     "output_type": "error",
     "traceback": [
      "\u001b[1;36m  Cell \u001b[1;32mIn[1], line 9\u001b[1;36m\u001b[0m\n\u001b[1;33m    def mostra_ricetta(self)\u001b[0m\n\u001b[1;37m                            ^\u001b[0m\n\u001b[1;31mSyntaxError\u001b[0m\u001b[1;31m:\u001b[0m expected ':'\n"
     ]
    }
   ],
   "source": [
    "class Ricetta: \n",
    "    chef = \"Chef Mario\"  # variabile di classe\n",
    "\n",
    "    def __init__(self, name, ingredienti):\n",
    "        self.name = name  # nome della ricetta\n",
    "        self.ingredienti = ingredienti  # attributo di istanza\n",
    "\n",
    "    def mostra_ricetta(self):\n",
    "        print(f\"Ricetta: {self.name} di {self.chef}\")\n",
    "        print(\"Ingredienti:\")\n",
    "        for ingrediente in self.ingredienti:\n",
    "            print(f\"- {ingrediente}\")\n",
    "\n",
    "ricetta1 = Ricetta(\"Pasta al Pomodoro\", [\"pasta\", \"pomodoro\", \"olio d'oliva\", \"basilico\"])\n",
    "ricetta2 = Ricetta(\"Insalata Caprese\", [\"mozzarella\", \"pomodoro\", \"basilico\", \"olio d'oliva\"])\n",
    "ricetta1.mostra_ricetta()\n",
    "ricetta2.mostra_ricetta()"
   ]
  },
  {
   "cell_type": "code",
   "execution_count": 3,
   "id": "45aeb1fe",
   "metadata": {},
   "outputs": [
    {
     "name": "stdout",
     "output_type": "stream",
     "text": [
      "Fido dice: Bau Bau!\n",
      "Micio dice: Miao Miao!\n"
     ]
    }
   ],
   "source": [
    "class animale:\n",
    "    def __init__(self, nome, specie):\n",
    "        self.nome = nome  # nome dell'animale\n",
    "        self.specie = specie  # specie dell'animale \n",
    "    def parla(self):\n",
    "        print(f\"{self.nome} dice: Ciao, sono un {self.specie}!\")    \n",
    "'''per l'ereditarietà si crea una classe base (animale) e due classi derivate (cane e gatto)\n",
    " che ereditano da essa. Si definisce un metodo parla() in ciascuna classe derivata\n",
    " che stampa un messaggio specifico per ogni tipo di animale.'''   \n",
    "class cane(animale):\n",
    "    def parla(self):\n",
    "        print(f\"{self.nome} dice: Bau Bau!\")\n",
    "class gatto(animale):   \n",
    "    def parla(self):\n",
    "        print(f\"{self.nome} dice: Miao Miao!\")  \n",
    "\n",
    "il_mio_cane = cane(\"Fido\", \"Cane\")\n",
    "il_mio_gatto = gatto(\"Micio\", \"Gatto\")\n",
    "il_mio_cane.parla()\n",
    "il_mio_gatto.parla()    "
   ]
  },
  {
   "cell_type": "code",
   "execution_count": 5,
   "id": "33518998",
   "metadata": {},
   "outputs": [],
   "source": [
    "class scuola:\n",
    "    def __init__(self, nome):\n",
    "        self.nome = nome\n",
    "\n",
    "    def mostra_gruppo_scuola():\n",
    "        print(f\"Benvenuti alla scuola {self.nome}!\")    \n",
    "class studente(scuola):\n",
    "    def __init__(self, nome, eta):\n",
    "        super().__init__(nome)  # chiama il costruttore della classe base\n",
    "        self.nome = nome  # nome dello studente\n",
    "        self.eta = eta  # età dello studente\n",
    "\n",
    "    def mostra_studente(self):\n",
    "        print(f\"Studente: {self.nome}, Età: {self.eta} anni, Scuola: {self.nome}\")\n",
    "scuola1 = scuola(\"Scuola Primaria\")\n",
    "studente1 = studente(\"Luca\", 10)\n"
   ]
  },
  {
   "cell_type": "code",
   "execution_count": 6,
   "id": "7c097061",
   "metadata": {},
   "outputs": [
    {
     "name": "stdout",
     "output_type": "stream",
     "text": [
      "Abbigliamento: manica lunga, Colore: azzurro, Taglia: M\n",
      "Camicia di colore azzurro, tipo manica lunga, taglia M.\n",
      "Abbigliamento: jeans, Colore: blu, Taglia: L\n",
      "Pantaloni di colore blu, tipo jeans, taglia L.\n",
      "Abbigliamento: sportiva, Colore: rossa, Taglia: S\n",
      "Maglietta di colore rossa, tipo sportiva, taglia S.\n"
     ]
    }
   ],
   "source": [
    "class abbigliamento:\n",
    "    def __init__(self, tipo, colore, taglia):\n",
    "        self.tipo = tipo  # tipo di abbigliamento\n",
    "        self.colore = colore  # colore dell'abbigliamento\n",
    "        self.taglia = taglia  # taglia dell'abbigliamento\n",
    "\n",
    "    def mostra_info(self):\n",
    "        print(f\"Abbigliamento: {self.tipo}, Colore: {self.colore}, Taglia: {self.taglia}\")\n",
    "\n",
    "class camicia(abbigliamento):\n",
    "    def info_camicia(self):\n",
    "        print(f\"Camicia di colore {self.colore}, tipo {self.tipo}, taglia {self.taglia}.\")\n",
    "\n",
    "class pantaloni(abbigliamento):\n",
    "    def info_pantaloni(self):\n",
    "        print(f\"Pantaloni di colore {self.colore}, tipo {self.tipo}, taglia {self.taglia}.\")\n",
    "\n",
    "class maglietta(abbigliamento):\n",
    "    def info_maglietta(self):\n",
    "        print(f\"Maglietta di colore {self.colore}, tipo {self.tipo}, taglia {self.taglia}.\")\n",
    "\n",
    "# Esempio di utilizzo:\n",
    "cam = camicia(\"manica lunga\", \"azzurro\", \"M\")\n",
    "pant = pantaloni(\"jeans\", \"blu\", \"L\")\n",
    "magl = maglietta(\"sportiva\", \"rossa\", \"S\")\n",
    "\n",
    "cam.mostra_info()\n",
    "cam.info_camicia()\n",
    "pant.mostra_info()\n",
    "pant.info_pantaloni()\n",
    "magl.mostra_info()\n",
    "magl.info_maglietta()"
   ]
  },
  {
   "cell_type": "markdown",
   "id": "79105444",
   "metadata": {},
   "source": [
    "In caso di input inserite un try e con log degli errori che risultano a schermo."
   ]
  },
  {
   "cell_type": "markdown",
   "id": "fd71e3b0",
   "metadata": {},
   "source": [
    "il metodo ovreride che integra lo stessono me ma modifica il contenuto aggiungendo pattern al comportamento genitore."
   ]
  },
  {
   "cell_type": "code",
   "execution_count": null,
   "id": "7c1d326a",
   "metadata": {},
   "outputs": [
    {
     "name": "stdout",
     "output_type": "stream",
     "text": [
      "Abbigliamento: manica lunga, Colore: azzurro, Taglia: M\n",
      "Camicia di colore azzurro, tipo manica lunga, taglia M.\n",
      "Abbigliamento: jeans, Colore: blu, Taglia: L\n",
      "Pantaloni di colore blu, tipo jeans, taglia L.\n",
      "Abbigliamento: sportiva, Colore: rossa, Taglia: S\n",
      "Maglietta di colore rossa, tipo sportiva, taglia S.\n"
     ]
    }
   ],
   "source": [
    "class abbigliamento:\n",
    "    def __init__(self, tipo, colore, taglia):\n",
    "        self.tipo = tipo  # tipo di abbigliamento\n",
    "        self.colore = colore  # colore dell'abbigliamento\n",
    "        self.taglia = taglia  # taglia dell'abbigliamento\n",
    "\n",
    "    def mostra_info(self):\n",
    "        print(f\"Abbigliamento: {self.tipo}, Colore: {self.colore}, Taglia: {self.taglia}\")\n",
    "class prodotto:\n",
    "    def __init__(self, nome, prezzo):\n",
    "        self.nome = nome  # nome del prodotto\n",
    "        self.prezzo = prezzo  # prezzo del prodotto\n",
    "\n",
    "    def mostra_prodotto(self):\n",
    "        print(f\"Prodotto: {self.nome}, Prezzo: {self.prezzo} Euro\")\n",
    "\n",
    "class camicia(abbigliamento, prodotto):\n",
    "    def __init__(self, tipo, colore, taglia):\n",
    "        abbigliamento.__init__(self, tipo, colore, taglia)\n",
    "        prodotto.__init__(self, \"Camicia\", 29.99)\n",
    "    def info_camicia(self):\n",
    "        print(f\"Camicia di colore {self.colore}, tipo {self.tipo}, taglia {self.taglia}.\")\n",
    "\n",
    "class pantaloni(abbigliamento, prodotto):\n",
    "    def __init__(self, tipo, colore, taglia):\n",
    "        abbigliamento.__init__(self, tipo, colore, taglia)\n",
    "        prodotto.__init__(self, \"Pantaloni\", 49.99)\n",
    "    def info_pantaloni(self):\n",
    "        print(f\"Pantaloni di colore {self.colore}, tipo {self.tipo}, taglia {self.taglia}.\")\n",
    "\n",
    "class maglietta(abbigliamento, prodotto):\n",
    "    def __init__(self, tipo, colore, taglia):\n",
    "        abbigliamento.__init__(self, tipo, colore, taglia)\n",
    "        prodotto.__init__(self, \"Maglietta\", 19.99)\n",
    "    def info_maglietta(self):\n",
    "        print(f\"Maglietta di colore {self.colore}, tipo {self.tipo}, taglia {self.taglia}.\")\n",
    "\n",
    "# Esempio di utilizzo:\n",
    "cam = camicia(\"manica lunga\", \"azzurro\", \"M\")\n",
    "pant = pantaloni(\"jeans\", \"blu\", \"L\")\n",
    "magl = maglietta(\"sportiva\", \"rossa\", \"S\")\n",
    "\n",
    "cam.mostra_info()\n",
    "cam.info_camicia()\n",
    "pant.mostra_info()\n",
    "pant.info_pantaloni()\n",
    "magl.mostra_info()\n",
    "magl.info_maglietta()"
   ]
  },
  {
   "cell_type": "code",
   "execution_count": 1,
   "id": "f3423353",
   "metadata": {},
   "outputs": [
    {
     "name": "stdout",
     "output_type": "stream",
     "text": [
      "Veicolo: Ford Mustang, Anno: 2022\n",
      "Auto: Ford Mustang, Anno: 2022, Prezzo: 20000.0 Euro\n"
     ]
    }
   ],
   "source": [
    "class veicolo:\n",
    "    def __init__(self, marca, modello, anno):\n",
    "        self.marca = marca\n",
    "        self.modello = modello\n",
    "        self.anno = anno\n",
    "    def mostra_info(self):\n",
    "        print(f\"Veicolo: {self.marca} {self.modello}, Anno: {self.anno}\")\n",
    "class prodotto:\n",
    "    def __init__(self, nome, prezzo):\n",
    "        self.nome = nome  # nome del prodotto\n",
    "        self.prezzo = prezzo  # prezzo del prodotto\n",
    "\n",
    "    def mostra_prodotto(self):\n",
    "        print(f\"Prodotto: {self.nome}, Prezzo: {self.prezzo} Euro\")\n",
    "class auto(veicolo, prodotto):\n",
    "    def __init__(self, marca, modello, anno):\n",
    "        veicolo.__init__(self, marca, modello, anno)\n",
    "        prodotto.__init__(self, \"Auto\", 20000.00)  # prezzo fisso per l'auto\n",
    "\n",
    "    def info_auto(self):\n",
    "        print(f\"Auto: {self.marca} {self.modello}, Anno: {self.anno}, Prezzo: {self.prezzo} Euro\")\n",
    "\n",
    "# Esempio di utilizzo:    \n",
    "auto1 = auto(\"Ford\", \"Mustang\", 2022)\n",
    "auto1.mostra_info()\n",
    "auto1.info_auto()"
   ]
  },
  {
   "cell_type": "code",
   "execution_count": null,
   "id": "d4723286",
   "metadata": {},
   "outputs": [],
   "source": [
    "class Computer:\n",
    "    def __init__(self, nome, marca, prezzo):\n",
    "        self.nome = nome\n",
    "        self.marca = marca\n",
    "        self.prezzo = prezzo\n",
    "\n",
    "    def info(self):\n",
    "        return f\"Nome: {self.nome}, Marca: {self.marca}, Prezzo: {self.prezzo}€\"\n",
    "    \n",
    "class Ufficio:\n",
    "    def __init__(self, nome, indirizzo):\n",
    "        self.nome = nome\n",
    "        self.indirizzo = indirizzo\n",
    "    def info(self):\n",
    "        return f\"Nome: {self.nome}, Indirizzo: {self.indirizzo}\"\n",
    "\n",
    "class Laptop(Computer, Ufficio):\n",
    "    def __init__(self, nome, marca, prezzo, nome_ufficio,indirizzo):\n",
    "        Computer.__init__(self, nome, marca, prezzo)\n",
    "        Ufficio.__init__(self, nome_ufficio, indirizzo )\n",
    "    \n",
    "    def info(self):\n",
    "         with open(\"C:\\\\Users\\\\Alessio Mangiagi\\\\Desktop\\\\pythoncorso_riverloop\\\\Python_Basic-Intermediate\\\\Studenti\\\\Alessio Mangiagi\\\\file_prova1.txt\", \"w\", encoding=\"utf-8\") as f:\n",
    "            f.write(f\"{super().info()}, Ufficio: {self.nome}, Indirizzo: {self.indirizzo}\\n\")\n",
    "\n",
    "Laptop1 = Laptop(\"ASUS\", \"ROG\", 2200, \"Ufficio1\", \"Via Roma 1\")\n",
    "Laptop2 = Laptop(str(input(\"inserisci produttore: \")),str(input(\"inserisci marca: \")), float(input(\"inserisci prezzo: \")), str(input(\"inserisci nome ufficio: \")), str(input(\"inserisci indirizzo: \")))"
   ]
  },
  {
   "cell_type": "markdown",
   "id": "8d2b563a",
   "metadata": {},
   "source": [
    "super(). richiama la classe genitore e accatta parametri e oggetti,\n",
    "può avere degli argomenti.\n",
    "se ci sono più classi madere lui va a prendere la prima dichiarata (in posizione 0)\n"
   ]
  }
 ],
 "metadata": {
  "kernelspec": {
   "display_name": "Python 3",
   "language": "python",
   "name": "python3"
  },
  "language_info": {
   "codemirror_mode": {
    "name": "ipython",
    "version": 3
   },
   "file_extension": ".py",
   "mimetype": "text/x-python",
   "name": "python",
   "nbconvert_exporter": "python",
   "pygments_lexer": "ipython3",
   "version": "3.12.1"
  }
 },
 "nbformat": 4,
 "nbformat_minor": 5
}
