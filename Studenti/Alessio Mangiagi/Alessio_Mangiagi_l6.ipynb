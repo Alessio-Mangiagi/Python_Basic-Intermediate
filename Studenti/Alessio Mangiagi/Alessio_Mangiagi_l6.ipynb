{
 "cells": [
  {
   "cell_type": "markdown",
   "id": "81059fb2",
   "metadata": {},
   "source": [
    "lezione 6 3/6/25 metodi di lettura file\n",
    "salvataggio e scrittura risultati"
   ]
  },
  {
   "cell_type": "code",
   "execution_count": 13,
   "id": "780a04ee",
   "metadata": {},
   "outputs": [],
   "source": [
    "import csv"
   ]
  },
  {
   "cell_type": "code",
   "execution_count": null,
   "id": "477c924a",
   "metadata": {},
   "outputs": [],
   "source": [
    "with open(\"file=test.txt\", \"w\") as f:\n",
    "    f.write(\"This is a test file.\\n\")\n",
    "    f.write(\"It contains multiple lines.\\n\")\n",
    "    f.write(\"This is the last line.\\n\")\n",
    "    f.close()\n",
    "# queste righe di codice servono a creare un file di testo e scriverci dentro del testo\n",
    "#write è dei fil file, serve a scrivere dentro il file ed è generico "
   ]
  },
  {
   "cell_type": "code",
   "execution_count": 3,
   "id": "b002f344",
   "metadata": {},
   "outputs": [
    {
     "name": "stdout",
     "output_type": "stream",
     "text": [
      "This is a test file.\n",
      "It contains multiple lines.\n",
      "This is the last line.\n",
      "\n"
     ]
    }
   ],
   "source": [
    "with open(\"file=test.txt\", \"r\",encoding=\"utf-8\") as f:\n",
    "    contenuto= f.read()\n",
    "    print(contenuto)\n",
    "    f.close()"
   ]
  },
  {
   "cell_type": "code",
   "execution_count": 5,
   "id": "d994bd8a",
   "metadata": {},
   "outputs": [],
   "source": [
    "righe = [ \"This is a test file.\\n\",\n",
    "          \"It contains multiple lines.\\n\",\n",
    "          \"This is the last line.\\n\" ]\n",
    "\n",
    "with open(\"file=test.txt\", \"w\") as f:\n",
    "    f.writelines(righe)\n",
    "    f.close()   \n",
    "# queste righe di codice servono a scrivere una lista di stringhe in un file di testo"
   ]
  },
  {
   "cell_type": "code",
   "execution_count": 6,
   "id": "eedcee02",
   "metadata": {},
   "outputs": [],
   "source": [
    "# queste righe di codice servono a leggere il file di testo e stampare il suo contenuto\n",
    "with open(\"file=test.txt\", \"a\", encoding=\"utf-8\") as f:\n",
    "    f.write(\"This line is added at the end.\\n\")\n",
    "    f.close()   \n",
    "    # queste righe di codice servono ad aggiungere una riga alla fine del file di testo"
   ]
  },
  {
   "cell_type": "code",
   "execution_count": 7,
   "id": "c9327a56",
   "metadata": {},
   "outputs": [
    {
     "name": "stdout",
     "output_type": "stream",
     "text": [
      "['This is a test file.\\n', 'It contains multiple lines.\\n', 'This is the last line.\\n', 'This line is added at the end.\\n']\n"
     ]
    }
   ],
   "source": [
    "with open(\"file=test.txt\", \"r\", encoding=\"utf-8\") as f:#queste righe di codice servono a leggere il file di testo\n",
    "    lines = f.readlines()\n",
    "    print(lines)\n",
    "    f.close()   \n",
    "# queste righe di codice servono a leggere il file di testo e stampare le sue righe come una lista"
   ]
  },
  {
   "cell_type": "code",
   "execution_count": null,
   "id": "2232a568",
   "metadata": {},
   "outputs": [],
   "source": [
    "count = 0\n",
    "with open(\"file=test.txt\", \"r\", encoding=\"utf-8\") as f:\n",
    "    for line in f:\n",
    "        count += 1\n",
    "    print(f\"Number of lines: {count}\")\n",
    "    f.close()\n",
    "# queste righe di codice servono a contare il numero di righe nel file di testo\n"
   ]
  },
  {
   "cell_type": "markdown",
   "id": "669c8798",
   "metadata": {},
   "source": [
    "metodi di lettura csv"
   ]
  },
  {
   "cell_type": "code",
   "execution_count": null,
   "id": "df1f3278",
   "metadata": {},
   "outputs": [
    {
     "name": "stdout",
     "output_type": "stream",
     "text": [
      "['Category', 'BEV', 'PHEV', 'H2', 'LPG', 'CNG', 'LNG']\n",
      "['Austria', '2.08', '0.74', '0', '0.01', '0.12', '']\n",
      "['Belgium', '1.11', '2.67', '0', '0.36', '0.22', '']\n",
      "['Bulgaria', '0.14', '0.06', '', '5.58', '0.79', '']\n",
      "['Croatia', '0.21', '0.08', '', '2.81', '0.01', '']\n",
      "['Cyprus', '0.08', '0.09', '', '0.03', '', '']\n",
      "['Czech Republic', '0.21', '0.13', '0', '2.28', '0.41', '']\n",
      "['Denmark', '3.72', '3.1', '0.01', '0', '0.01', '']\n",
      "['Estonia', '0.31', '0.07', '0', '0.65', '0.32', '']\n",
      "['Finland', '1.16', '2.49', '0', '0', '0.39', '']\n",
      "['France', '1.75', '0.94', '0', '0.42', '0.03', '']\n",
      "['Germany', '1.99', '1.79', '0', '0.68', '0.19', '']\n",
      "['Greece', '0.1', '0.19', '', '3.43', '0.08', '']\n",
      "['Hungary', '0.72', '0.32', '', '0.5', '0.06', '']\n",
      "['Iceland', '5.8', '6.56', '0.01', '0', '0.59', '']\n",
      "['Ireland', '1.4', '0.94', '', '0.02', '0.01', '']\n",
      "['Italy', '0.42', '0.42', '0', '5.87', '2.44', '']\n",
      "['Latvia', '0.47', '0.07', '', '5.86', '0.03', '']\n",
      "['Liechtenstein', '1.1', '0.19', '', '0', '', '']\n",
      "['Lithuania', '0.43', '0.28', '0', '5.92', '0.05', '0']\n",
      "['Luxembourg', '3.13', '2.62', '0', '0.08', '0.04', '']\n",
      "['Malta', '0.78', '0.76', '', '0.53', '', '']\n",
      "['Netherlands', '3.44', '1.88', '0.01', '1.28', '0.12', '0']\n",
      "['Norway', '17.83', '5.23', '0.01', '', '0.02', '']\n",
      "['Poland', '0.09', '0.09', '0', '11.86', '0.02', '']\n",
      "['Portugal', '1.01', '0.93', '0', '0.79', '0', '']\n",
      "['Romania', '0.27', '0.1', '', '2.55', '0', '']\n",
      "['Slovakia', '0.17', '0.15', '0', '1.78', '0.12', '']\n",
      "['Slovenia', '0.61', '0.12', '', '0.91', '0.03', '']\n",
      "['Spain', '0.4', '0.45', '0', '0.28', '0.08', '']\n",
      "['Sweden', '3.97', '4.91', '0', '0', '0.97', '']\n",
      "['Switzerland', '2.21', '1.39', '0.01', '0', '0.32', '']\n",
      "['Turkey', '0.08', '0.01', '', '26.12', '0', '']\n",
      "['United Kingdom', '1.76', '1.14', '0', '0.07', '', '']\n"
     ]
    }
   ],
   "source": [
    "with open(\"C:\\\\Users\\\\Alessio Mangiagi\\\\Desktop\\\\pythoncorso_riverloop\\\\Python_Basic-Intermediate\\\\Studenti\\\\Alessio Mangiagi\\\\20240904_183206_export.csv\",\"r\", encoding=\"utf-8\") as csvfile:\n",
    "    reader = csv.reader(csvfile)\n",
    "    for row in reader:\n",
    "        print(row)\n",
    "    csvfile.close()\n"
   ]
  },
  {
   "cell_type": "code",
   "execution_count": null,
   "id": "ccb6466f",
   "metadata": {},
   "outputs": [],
   "source": [
    "with open(\"studenti.csv\", \"w\", newline='', encoding=\"utf-8\") as csvfile: #queste righe di codice servono a creare un file CSV e scriverci dentro delle righe, con la riga di intestazioneit open(\"studenti.csv\", \"w\", newline='', encoding=\"utf-8\") as csvfile:\n",
    "    writer = csv.writer(csvfile)\n",
    "    writer.writerow([\"Name\", \"Age\", \"Grade\", \"City\"])\n",
    "    writer.writerow([\"Alice\", 20, \"A\", \"New York\"])\n",
    "    writer.writerow([\"Bob\", 22, \"B\", \"Los Angeles\"])\n",
    "    writer.writerow([\"Charlie\", 21, \"C\", \"Chicago\"])\n",
    "# queste righe di codice servono a creare un file CSV e scriverci dentro delle righe\n",
    "#writer è specificoo per scrivere su file CSV\n",
    "#writer.writerow([\"Name\", \"Age\", \"Grade\", \"City\"]) serve a scrivere la riga di intestazione"
   ]
  },
  {
   "cell_type": "code",
   "execution_count": 2,
   "id": "df514c18",
   "metadata": {},
   "outputs": [],
   "source": [
    "with open(\"prova.txt\", \"a\", encoding=\"utf-8\") as f:\n",
    "    f.writelines(\"This is a test file.\\n,It contains multiple lines.\\n,This is the last line.\\n\")\n",
    "    f.close()"
   ]
  },
  {
   "cell_type": "code",
   "execution_count": 4,
   "id": "6db185fa",
   "metadata": {},
   "outputs": [],
   "source": [
    "lista = [\"prova.txt\", \"prova2.txt\", \"prova3.txt\"]\n",
    "with open(\"file=test.txt\", \"a\") as f:\n",
    "    f.writelines(lista)\n",
    "    for item in lista:\n",
    "        f.write(item + \"\\n\")\n",
    "    f.close()"
   ]
  },
  {
   "cell_type": "markdown",
   "id": "068b7b7f",
   "metadata": {},
   "source": [
    "\"r\"\tLettura (read)\topen(\"file.txt\", \"r\")\n",
    "\"w\"\tScrittura (write, sovrascrive)\topen(\"file.txt\", \"w\")\n",
    "\"a\"\tAggiunta (append, in fondo al file)\topen(\"file.txt\", \"a\")\n",
    "\"x\"\tScrittura, errore se esiste già\topen(\"file.txt\", \"x\")\n",
    "\"b\"\tModalità binaria\topen(\"file.txt\", \"rb\")\n",
    "\"t\"\tModalità testo (default)\topen(\"file.txt\", \"rt\")\n",
    "\"r+\"\tLettura e scrittura\topen(\"file.txt\", \"r+\")"
   ]
  },
  {
   "cell_type": "code",
   "execution_count": 5,
   "id": "7a1c5983",
   "metadata": {},
   "outputs": [
    {
     "ename": "FileExistsError",
     "evalue": "[Errno 17] File exists: 'file=test.txt'",
     "output_type": "error",
     "traceback": [
      "\u001b[1;31m---------------------------------------------------------------------------\u001b[0m",
      "\u001b[1;31mFileExistsError\u001b[0m                           Traceback (most recent call last)",
      "Cell \u001b[1;32mIn[5], line 1\u001b[0m\n\u001b[1;32m----> 1\u001b[0m \u001b[38;5;28;01mwith\u001b[39;00m \u001b[38;5;28;43mopen\u001b[39;49m\u001b[43m(\u001b[49m\u001b[38;5;124;43m\"\u001b[39;49m\u001b[38;5;124;43mfile=test.txt\u001b[39;49m\u001b[38;5;124;43m\"\u001b[39;49m\u001b[43m,\u001b[49m\u001b[43m \u001b[49m\u001b[38;5;124;43m\"\u001b[39;49m\u001b[38;5;124;43mx\u001b[39;49m\u001b[38;5;124;43m\"\u001b[39;49m\u001b[43m,\u001b[49m\u001b[43m \u001b[49m\u001b[43mencoding\u001b[49m\u001b[38;5;241;43m=\u001b[39;49m\u001b[38;5;124;43m\"\u001b[39;49m\u001b[38;5;124;43mutf-8\u001b[39;49m\u001b[38;5;124;43m\"\u001b[39;49m\u001b[43m)\u001b[49m \u001b[38;5;28;01mas\u001b[39;00m f:\n\u001b[0;32m      2\u001b[0m     f\u001b[38;5;241m.\u001b[39mwrite(\u001b[38;5;124m\"\u001b[39m\u001b[38;5;124mThis is a test file.\u001b[39m\u001b[38;5;130;01m\\n\u001b[39;00m\u001b[38;5;124m\"\u001b[39m)\n\u001b[0;32m      3\u001b[0m     f\u001b[38;5;241m.\u001b[39mwrite(\u001b[38;5;124m\"\u001b[39m\u001b[38;5;124mIt contains multiple lines.\u001b[39m\u001b[38;5;130;01m\\n\u001b[39;00m\u001b[38;5;124m\"\u001b[39m)\n",
      "File \u001b[1;32m~\\AppData\\Roaming\\Python\\Python312\\site-packages\\IPython\\core\\interactiveshell.py:324\u001b[0m, in \u001b[0;36m_modified_open\u001b[1;34m(file, *args, **kwargs)\u001b[0m\n\u001b[0;32m    317\u001b[0m \u001b[38;5;28;01mif\u001b[39;00m file \u001b[38;5;129;01min\u001b[39;00m {\u001b[38;5;241m0\u001b[39m, \u001b[38;5;241m1\u001b[39m, \u001b[38;5;241m2\u001b[39m}:\n\u001b[0;32m    318\u001b[0m     \u001b[38;5;28;01mraise\u001b[39;00m \u001b[38;5;167;01mValueError\u001b[39;00m(\n\u001b[0;32m    319\u001b[0m         \u001b[38;5;124mf\u001b[39m\u001b[38;5;124m\"\u001b[39m\u001b[38;5;124mIPython won\u001b[39m\u001b[38;5;124m'\u001b[39m\u001b[38;5;124mt let you open fd=\u001b[39m\u001b[38;5;132;01m{\u001b[39;00mfile\u001b[38;5;132;01m}\u001b[39;00m\u001b[38;5;124m by default \u001b[39m\u001b[38;5;124m\"\u001b[39m\n\u001b[0;32m    320\u001b[0m         \u001b[38;5;124m\"\u001b[39m\u001b[38;5;124mas it is likely to crash IPython. If you know what you are doing, \u001b[39m\u001b[38;5;124m\"\u001b[39m\n\u001b[0;32m    321\u001b[0m         \u001b[38;5;124m\"\u001b[39m\u001b[38;5;124myou can use builtins\u001b[39m\u001b[38;5;124m'\u001b[39m\u001b[38;5;124m open.\u001b[39m\u001b[38;5;124m\"\u001b[39m\n\u001b[0;32m    322\u001b[0m     )\n\u001b[1;32m--> 324\u001b[0m \u001b[38;5;28;01mreturn\u001b[39;00m \u001b[43mio_open\u001b[49m\u001b[43m(\u001b[49m\u001b[43mfile\u001b[49m\u001b[43m,\u001b[49m\u001b[43m \u001b[49m\u001b[38;5;241;43m*\u001b[39;49m\u001b[43margs\u001b[49m\u001b[43m,\u001b[49m\u001b[43m \u001b[49m\u001b[38;5;241;43m*\u001b[39;49m\u001b[38;5;241;43m*\u001b[39;49m\u001b[43mkwargs\u001b[49m\u001b[43m)\u001b[49m\n",
      "\u001b[1;31mFileExistsError\u001b[0m: [Errno 17] File exists: 'file=test.txt'"
     ]
    }
   ],
   "source": [
    "with open(\"file=test.txt\", \"x\", encoding=\"utf-8\") as f:\n",
    "    f.write(\"This is a test file.\\n\")\n",
    "    f.write(\"It contains multiple lines.\\n\")\n",
    "    f.write(\"This is the last line.\\n\")\n",
    "    f.close()\n",
    "    # queste righe di codice servono a creare un file di testo e scriverci dentro del testo, ma se il file esiste già, genera un'eccezione\n",
    "    \n"
   ]
  },
  {
   "cell_type": "code",
   "execution_count": 19,
   "id": "0124cd81",
   "metadata": {},
   "outputs": [
    {
     "name": "stdout",
     "output_type": "stream",
     "text": [
      "['Category', 'BEV', 'PHEV', 'H2', 'LPG', 'CNG', 'LNG']\n",
      "['Austria', '2.08', '0.74', '0', '0.01', '0.12', '']\n",
      "['Belgium', '1.11', '2.67', '0', '0.36', '0.22', '']\n",
      "['Bulgaria', '0.14', '0.06', '', '5.58', '0.79', '']\n",
      "['Croatia', '0.21', '0.08', '', '2.81', '0.01', '']\n",
      "['Cyprus', '0.08', '0.09', '', '0.03', '', '']\n",
      "['Czech Republic', '0.21', '0.13', '0', '2.28', '0.41', '']\n",
      "['Denmark', '3.72', '3.1', '0.01', '0', '0.01', '']\n",
      "['Estonia', '0.31', '0.07', '0', '0.65', '0.32', '']\n",
      "['Finland', '1.16', '2.49', '0', '0', '0.39', '']\n",
      "['France', '1.75', '0.94', '0', '0.42', '0.03', '']\n",
      "['Germany', '1.99', '1.79', '0', '0.68', '0.19', '']\n",
      "['Greece', '0.1', '0.19', '', '3.43', '0.08', '']\n",
      "['Hungary', '0.72', '0.32', '', '0.5', '0.06', '']\n",
      "['Iceland', '5.8', '6.56', '0.01', '0', '0.59', '']\n",
      "['Ireland', '1.4', '0.94', '', '0.02', '0.01', '']\n",
      "['Italy', '0.42', '0.42', '0', '5.87', '2.44', '']\n",
      "['Latvia', '0.47', '0.07', '', '5.86', '0.03', '']\n",
      "['Liechtenstein', '1.1', '0.19', '', '0', '', '']\n",
      "['Lithuania', '0.43', '0.28', '0', '5.92', '0.05', '0']\n",
      "['Luxembourg', '3.13', '2.62', '0', '0.08', '0.04', '']\n",
      "['Malta', '0.78', '0.76', '', '0.53', '', '']\n",
      "['Netherlands', '3.44', '1.88', '0.01', '1.28', '0.12', '0']\n",
      "['Norway', '17.83', '5.23', '0.01', '', '0.02', '']\n",
      "['Poland', '0.09', '0.09', '0', '11.86', '0.02', '']\n",
      "['Portugal', '1.01', '0.93', '0', '0.79', '0', '']\n",
      "['Romania', '0.27', '0.1', '', '2.55', '0', '']\n",
      "['Slovakia', '0.17', '0.15', '0', '1.78', '0.12', '']\n",
      "['Slovenia', '0.61', '0.12', '', '0.91', '0.03', '']\n",
      "['Spain', '0.4', '0.45', '0', '0.28', '0.08', '']\n",
      "['Sweden', '3.97', '4.91', '0', '0', '0.97', '']\n",
      "['Switzerland', '2.21', '1.39', '0.01', '0', '0.32', '']\n",
      "['Turkey', '0.08', '0.01', '', '26.12', '0', '']\n",
      "['United Kingdom', '1.76', '1.14', '0', '0.07', '', '']\n"
     ]
    }
   ],
   "source": [
    "import csv\n",
    "\n",
    "with open(\"C:\\\\Users\\\\Alessio Mangiagi\\\\Desktop\\\\pythoncorso_riverloop\\\\Python_Basic-Intermediate\\\\Studenti\\\\Alessio Mangiagi\\\\20240904_183206_export.csv\", \"r\", encoding=\"utf-8\") as csvfile:\n",
    "    reader = csv.reader(csvfile)\n",
    "    for row in reader:\n",
    "        print(row)\n",
    "f.close()\n",
    "# Non serve csvfile.close() quando si usa 'with'"
   ]
  },
  {
   "cell_type": "code",
   "execution_count": 25,
   "id": "83d0a6a0",
   "metadata": {},
   "outputs": [
    {
     "name": "stdout",
     "output_type": "stream",
     "text": [
      "2.08\n",
      "1.11\n",
      "0.14\n",
      "0.21\n",
      "0.08\n",
      "0.21\n",
      "3.72\n",
      "0.31\n",
      "1.16\n",
      "1.75\n",
      "1.99\n",
      "0.1\n",
      "0.72\n",
      "5.8\n",
      "1.4\n",
      "0.42\n",
      "0.47\n",
      "1.1\n",
      "0.43\n",
      "3.13\n",
      "0.78\n",
      "3.44\n",
      "17.83\n",
      "0.09\n",
      "1.01\n",
      "0.27\n",
      "0.17\n",
      "0.61\n",
      "0.4\n",
      "3.97\n",
      "2.21\n",
      "0.08\n",
      "1.76\n"
     ]
    }
   ],
   "source": [
    "import csv\n",
    "\n",
    "with open(\"C:\\\\Users\\\\Alessio Mangiagi\\\\Desktop\\\\pythoncorso_riverloop\\\\Python_Basic-Intermediate\\\\Studenti\\\\Alessio Mangiagi\\\\20240904_183206_export.csv\", \"r\", encoding=\"utf-8\") as f:\n",
    "    reader = csv.DictReader(f)\n",
    "    for rigadict in reader:\n",
    "        print(rigadict[\"BEV\"])\n",
    "# Non serve csvfile.close() quando si usa 'with' e DictReader permette di leggere il CSV come un dizionario\n",
    "# Questo codice legge un file CSV e stampa ogni riga come un dizionario"
   ]
  },
  {
   "cell_type": "code",
   "execution_count": null,
   "id": "206892ff",
   "metadata": {},
   "outputs": [],
   "source": [
    "try:\n",
    "    with open(\"file=test.txt\", \"r\", encoding=\"utf-8\") as f:\n",
    "        lines = f.readlines()\n",
    "        for line in lines:\n",
    "            print(line)  # .strip() to remove any leading/trailing whitespace\n",
    "        f.close()\n",
    "except FileNotFoundError:\n",
    "    print(\"File not found.\")   \n",
    "except Exception as e:\n",
    "    print(f\"An error occurred: {e}\")\n"
   ]
  },
  {
   "cell_type": "code",
   "execution_count": null,
   "id": "352366fb",
   "metadata": {},
   "outputs": [],
   "source": []
  }
 ],
 "metadata": {
  "kernelspec": {
   "display_name": "Python 3",
   "language": "python",
   "name": "python3"
  },
  "language_info": {
   "codemirror_mode": {
    "name": "ipython",
    "version": 3
   },
   "file_extension": ".py",
   "mimetype": "text/x-python",
   "name": "python",
   "nbconvert_exporter": "python",
   "pygments_lexer": "ipython3",
   "version": "3.12.1"
  }
 },
 "nbformat": 4,
 "nbformat_minor": 5
}
