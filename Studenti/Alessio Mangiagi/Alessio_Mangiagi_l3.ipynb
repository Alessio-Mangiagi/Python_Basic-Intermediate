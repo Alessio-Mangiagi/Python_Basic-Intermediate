{
 "cells": [
  {
   "cell_type": "markdown",
   "id": "3a0db521",
   "metadata": {},
   "source": [
    "Lezione 3 20/5/25"
   ]
  },
  {
   "cell_type": "markdown",
   "id": "e4ebb875",
   "metadata": {},
   "source": [
    "If-else e cicli di iterazione con ciclo for (definito) e while (indefinito). \n",
    "possono essere controllati con breack, continu e pass.\n"
   ]
  },
  {
   "cell_type": "code",
   "execution_count": 3,
   "id": "87d2960a",
   "metadata": {},
   "outputs": [
    {
     "name": "stdout",
     "output_type": "stream",
     "text": [
      "*  *  *  *  *  \n",
      "**  **  **  **  **  \n",
      "***  ***  ***  ***  ***  \n",
      "****  ****  ****  ****  ****  \n",
      "*****  *****  *****  *****  *****  \n",
      "******  ******  ******  ******  ******  \n",
      "*******  *******  *******  *******  *******  \n",
      "********  ********  ********  ********  ********  \n",
      "*********  *********  *********  *********  *********  \n",
      "**********  **********  **********  **********  **********  \n"
     ]
    }
   ],
   "source": [
    "list = [1, 2, 3, 4, 5,6, 7, 8, 9, 10]\n",
    "for i in list:\n",
    "     print ((\"*\" * i +\"  \")*5) \n",
    "     "
   ]
  },
  {
   "cell_type": "code",
   "execution_count": 23,
   "id": "13c45a56",
   "metadata": {},
   "outputs": [
    {
     "name": "stdout",
     "output_type": "stream",
     "text": [
      "         *\n",
      "        ***\n",
      "       *****\n",
      "      *******\n",
      "     *********\n",
      "    ***********\n",
      "   *************\n",
      "  ***************\n",
      " *****************\n",
      "*******************\n"
     ]
    }
   ],
   "source": [
    "altezza =int(input(\"Inserisci l'altezza della pitamide: \"))\n",
    "for i in range(1, altezza + 1):\n",
    "     print(\" \" * (altezza - i) + \"*\" * (2 * i - 1))"
   ]
  }
 ],
 "metadata": {
  "kernelspec": {
   "display_name": "Python 3",
   "language": "python",
   "name": "python3"
  },
  "language_info": {
   "codemirror_mode": {
    "name": "ipython",
    "version": 3
   },
   "file_extension": ".py",
   "mimetype": "text/x-python",
   "name": "python",
   "nbconvert_exporter": "python",
   "pygments_lexer": "ipython3",
   "version": "3.12.1"
  }
 },
 "nbformat": 4,
 "nbformat_minor": 5
}
