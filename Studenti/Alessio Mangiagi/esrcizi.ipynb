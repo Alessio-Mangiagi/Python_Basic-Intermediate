{
 "cells": [
  {
   "cell_type": "code",
   "execution_count": 6,
   "id": "bf676cdc",
   "metadata": {},
   "outputs": [],
   "source": [
    "import random\n",
    "import toolbox_AM\n",
    "import sys\n",
    "import os"
   ]
  },
  {
   "cell_type": "code",
   "execution_count": null,
   "id": "4d301bb0",
   "metadata": {},
   "outputs": [
    {
     "name": "stdout",
     "output_type": "stream",
     "text": [
      "lancio 1: 4\n",
      "lancio 2: 6\n",
      "lancio 3: 3\n",
      "lancio 4: 5\n",
      "lancio 5: 2\n",
      "Lista dei lanci: [4, 6, 3, 5, 2]\n",
      "Media dei lanci: 4.0\n",
      "Funzione Somma_lista non trovata in toolbox_AM.\n"
     ]
    }
   ],
   "source": [
    "lista_dadi = []\n",
    "numero_lanci_dadi = int(input(\"Quanti dadi vuoi lanciare? \"))\n",
    "\n",
    "def lancio_dadi():\n",
    "    dado = random.randint(1, 6)\n",
    "    lista_dadi.append(dado)\n",
    "    return dado\n",
    "\n",
    "for i in range(1, numero_lanci_dadi + 1):\n",
    "    risultato = lancio_dadi()\n",
    "    print(f\"lancio {i}: {risultato}\")\n",
    "print(f\"Lista dei lanci: {lista_dadi}\")\n",
    "print(toolbox_AM.CalcolaMedia(lista_dadi))\n",
    "\n"
   ]
  }
 ],
 "metadata": {
  "kernelspec": {
   "display_name": "Python 3",
   "language": "python",
   "name": "python3"
  },
  "language_info": {
   "codemirror_mode": {
    "name": "ipython",
    "version": 3
   },
   "file_extension": ".py",
   "mimetype": "text/x-python",
   "name": "python",
   "nbconvert_exporter": "python",
   "pygments_lexer": "ipython3",
   "version": "3.12.1"
  }
 },
 "nbformat": 4,
 "nbformat_minor": 5
}
