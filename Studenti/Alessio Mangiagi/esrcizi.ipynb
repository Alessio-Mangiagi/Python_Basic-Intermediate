{
 "cells": [
  {
   "cell_type": "code",
   "execution_count": null,
   "id": "bf676cdc",
   "metadata": {},
   "outputs": [],
   "source": [
    "import random\n",
    "import toolbox_AM\n",
    "import sys\n",
    "import os\n",
    "''' \n",
    "><(((º>  \n",
    "\n",
    "'''"
   ]
  },
  {
   "cell_type": "code",
   "execution_count": 8,
   "id": "4d301bb0",
   "metadata": {},
   "outputs": [
    {
     "name": "stdout",
     "output_type": "stream",
     "text": [
      "lancio 1: 3\n",
      "lancio 2: 4\n",
      "lancio 3: 6\n",
      "lancio 4: 2\n",
      "lancio 5: 1\n",
      "lancio 6: 2\n",
      "lancio 7: 6\n",
      "lancio 8: 5\n",
      "Lista dei lanci: [3, 4, 6, 2, 1, 2, 6, 5]\n",
      "29\n"
     ]
    }
   ],
   "source": [
    "lista_dadi = []\n",
    "numero_lanci_dadi = int(input(\"Quanti dadi vuoi lanciare? \"))\n",
    "\n",
    "def lancio_dadi():\n",
    "    dado = random.randint(1, 6)\n",
    "    lista_dadi.append(dado)\n",
    "    return dado\n",
    "\n",
    "for i in range(1, numero_lanci_dadi + 1):\n",
    "    risultato = lancio_dadi()\n",
    "    print(f\"lancio {i}: {risultato}\")\n",
    "print(f\"Lista dei lanci: {lista_dadi}\")\n",
    "print(toolbox_AM.Somma_lista(lista_dadi))\n",
    "\n"
   ]
  },
  {
   "cell_type": "code",
   "execution_count": null,
   "id": "d78996a4",
   "metadata": {},
   "outputs": [
    {
     "name": "stdout",
     "output_type": "stream",
     "text": [
      "Il prezzo finale dopo lo sconto è: 0.0\n"
     ]
    }
   ],
   "source": [
    "#calcola_sconto\n",
    "\n",
    "while True:\n",
    "    Inserisci_prezzo = float(input(\"Inserisci il prezzo del prodotto: \"))\n",
    "    if Inserisci_prezzo < 0:\n",
    "        print(\"Il prezzo non può essere negativo. Riprova.\")\n",
    "    else:\n",
    "        break\n",
    "         \n",
    "def calcola_sconto(prezzo):\n",
    "    if prezzo < 100:\n",
    "        sconto = 0.05\n",
    "    elif prezzo < 200:\n",
    "        sconto = 0.10\n",
    "    else:\n",
    "        sconto = 0.15\n",
    "    return prezzo * (1 - sconto)\n",
    "print(f\"Il prezzo finale dopo lo sconto è: {calcola_sconto(Inserisci_prezzo)}\")"
   ]
  },
  {
   "cell_type": "code",
   "execution_count": null,
   "id": "06ed524f",
   "metadata": {},
   "outputs": [
    {
     "name": "stdout",
     "output_type": "stream",
     "text": [
      "Presa per stanza:['bagno'] \n",
      "Presa per stanza:['cucina', 'studio'] \n",
      "Presa per stanza:['soggiorno', 'camera da letto', 'ingresso'] \n",
      "Lista delle stanze con prese: [['bagno'], ['cucina', 'studio'], ['soggiorno', 'camera da letto', 'ingresso']]\n"
     ]
    }
   ],
   "source": [
    "#list comprehension iterazioni \n",
    "stanze = [\"cucina\", \"soggiorno\", \"camera da letto\", \"bagno\", \"studio\", \"ingresso\"]\n",
    "stanza_con_3_prese = [s for s in stanze if len(s) <= 5]\n",
    "stanza_con_4_prese = [s for s in stanze if len(s) == 6]\n",
    "stanza_con_5_prese = [s for s in stanze if len(s) >= 7]\n",
    "print(f\"Presa per stanza:{stanza_con_3_prese} \")\n",
    "print(f\"Presa per stanza:{stanza_con_4_prese} \")\n",
    "print(f\"Presa per stanza:{stanza_con_5_prese} \")\n",
    "\n",
    "lista_stanze = [stanza_con_3_prese, stanza_con_4_prese, stanza_con_5_prese]\n",
    "lista = [p for p in lista_stanze if len(p) > 0]\n",
    "print(f\"Lista delle stanze con prese: {lista}\")\n"
   ]
  },
  {
   "cell_type": "code",
   "execution_count": null,
   "id": "ffc9c613",
   "metadata": {},
   "outputs": [
    {
     "name": "stdout",
     "output_type": "stream",
     "text": [
      "[1, 4, 9, 16, 25, 36, 49, 64, 81, 100]\n"
     ]
    }
   ],
   "source": [
    "quadrati = [x**2 for x in range(1, 11)]\n",
    "print(quadrati)\n"
   ]
  },
  {
   "cell_type": "code",
   "execution_count": 2,
   "id": "8de4e8f1",
   "metadata": {},
   "outputs": [
    {
     "name": "stdout",
     "output_type": "stream",
     "text": [
      "[0, 2, 4, 6, 8, 10, 12, 14, 16, 18, 20]\n"
     ]
    }
   ],
   "source": [
    "pari = [x for x in range(21) if x % 2 == 0]\n",
    "print(pari)"
   ]
  },
  {
   "cell_type": "code",
   "execution_count": 3,
   "id": "2b68b612",
   "metadata": {},
   "outputs": [
    {
     "name": "stdout",
     "output_type": "stream",
     "text": [
      "lancio 1: 6\n",
      "lancio 2: 5\n",
      "lancio 3: 4\n",
      "lancio 4: 6\n",
      "lancio 5: 3\n",
      "lancio 6: 4\n",
      "lancio 7: 3\n",
      "lancio 8: 1\n",
      "lancio 9: 5\n",
      "Lista dei lanci: [6, 5, 4, 6, 3, 4, 3, 1, 5]\n",
      "37\n",
      "An error occurred: '_io.TextIOWrapper' object has no attribute 'writer'\n",
      "Programma terminato.\n"
     ]
    },
    {
     "ename": "SystemExit",
     "evalue": "0",
     "output_type": "error",
     "traceback": [
      "An exception has occurred, use %tb to see the full traceback.\n",
      "\u001b[1;31mSystemExit\u001b[0m\u001b[1;31m:\u001b[0m 0\n"
     ]
    }
   ],
   "source": [
    "import random\n",
    "from datetime import datetime\n",
    "import toolbox_AM  \n",
    "import csv\n",
    "try:\n",
    "    lista_dadi = []\n",
    "    numero_lanci_dadi = int(input(\"Quanti dadi vuoi lanciare? \"))\n",
    "\n",
    "    def lancio_dadi():\n",
    "        dado = random.randint(1, 6)\n",
    "        lista_dadi.append(dado)\n",
    "        return dado\n",
    "\n",
    "    for i in range(1, numero_lanci_dadi + 1):\n",
    "        risultato = lancio_dadi()\n",
    "        print(f\"lancio {i}: {risultato}\")\n",
    "    print(f\"Lista dei lanci: {lista_dadi}\")\n",
    "    print(toolbox_AM.Somma_lista(lista_dadi))\n",
    "\n",
    "# Salva i risultati in un file .txt\n",
    "\n",
    "    with open(\"risultati_dadi\" + datetime.now().strftime(\"%Y%m%d%H%M%S\") + \".csv\", \"w\") as f:\n",
    "        f.writer(f\"Numero di lanci: {numero_lanci_dadi}\\n\")\n",
    "        f.write(f\"Lista dei lanci: {lista_dadi}\\n\")\n",
    "        f.write(f\"Somma dei lanci: {toolbox_AM.Somma_lista(lista_dadi)}\\n\")\n",
    "        f.close()\n",
    "except ValueError :\n",
    "    with open(\"buffering=False.csv\", \"w\") as f:\n",
    "        f.write(\"Errore: il numero di lanci deve essere un intero positivo.\\n\")\n",
    "        f.close()\n",
    "    print(\"Errore: il numero di lanci deve essere un intero positivo.\")\n",
    "\n",
    "except Exception as e:\n",
    "    print(f\"An error occurred: {e}\")\n",
    "\n",
    "finally:\n",
    "    print(\"Programma terminato.\")\n",
    "    sys.exit(0)"
   ]
  },
  {
   "cell_type": "code",
   "execution_count": null,
   "id": "22cf5c48",
   "metadata": {},
   "outputs": [
    {
     "name": "stdout",
     "output_type": "stream",
     "text": [
      "Benvenuto\n",
      "il valore inserito non è riconosciuto\n",
      "Scusa non ho capito la tua scelta, riprova.\n",
      "Scusa non ho capito la tua scelta, riprova.\n",
      "Scusa non ho capito la tua scelta, riprova.\n",
      "Scusa non ho capito la tua scelta, riprova.\n"
     ]
    }
   ],
   "source": [
    "def calcolatrice(): \n",
    "    print(\"Benvenuto\")\n",
    "    x = True\n",
    "    while x:\n",
    "        decisione = input(\"Scegli un'operazione:\\n(1) Somma\\n(2) Sottrazione\\n(3) Moltiplicazione\\n(4) Divisione\\n\")\n",
    "\n",
    "        if decisione == \"1\":\n",
    "            print(\"eseguo la somma\")\n",
    "            numero_1 = input(\"dimmi il primo numero: \")  \n",
    "            numero_2 = input(\"dimmi il secondo numero: \") \n",
    "            somma = float(numero_1) + float(numero_2)\n",
    "            print(f\"la somma è {somma}\\n\")   \n",
    "        elif decisione == \"2\":\n",
    "            print(\"eseguo la sottrazione\")\n",
    "            numero_1 = input(\"dimmi il primo numero: \")  \n",
    "            numero_2 = input(\"dimmi il secondo numero: \") \n",
    "            sottrazione = float(numero_1) - float(numero_2)\n",
    "            print(f\"la sottrazione è {sottrazione}\\n\")\n",
    "        elif decisione == \"3\":\n",
    "            print(\"eseguo la moltiplicazione\")\n",
    "            numero_1 = input(\"dimmi il primo numero: \")  \n",
    "            numero_2 = input(\"dimmi il secondo numero: \") \n",
    "            moltiplicazione = float(numero_1) * float(numero_2)\n",
    "            print(f\"la moltiplicazione è {moltiplicazione}\\n\")\n",
    "        elif decisione == \"4\":\n",
    "            print(\"eseguo la divisione\")\n",
    "            numero_1 = input(\"dimmi il primo numero: \")  \n",
    "            numero_2 = input(\"dimmi il secondo numero: \") \n",
    "            try:\n",
    "                divisione = float(numero_1) / float(numero_2)\n",
    "                print(f\"la divisione è {divisione}\\n\")  \n",
    "            except ZeroDivisionError:\n",
    "                print(\"Errore: divisione per zero non consentita.\")\n",
    "        else: \n",
    "            print(\"il valore inserito non è riconosciuto\")\n",
    "        y = True\n",
    "        while y:\n",
    "            continua = input(\"Vuoi eseguire un'altra operazione? (s/n): \")\n",
    "            if continua.lower() == 's':\n",
    "                print(\"\\n\\n\\n\")\n",
    "                y = False\n",
    "            elif continua.lower() == 'n':\n",
    "                x = False\n",
    "                y = False\n",
    "                print(\"Grazie per aver usato la calcolatrice!\")\n",
    "            else:\n",
    "                print(\"Scusa non ho capito la tua scelta, riprova.\")\n",
    "                # y resta True, quindi il ciclo continua\n",
    "\n",
    "calcolatrice()"
   ]
  },
  {
   "cell_type": "code",
   "execution_count": 4,
   "id": "33f41b2a",
   "metadata": {},
   "outputs": [
    {
     "name": "stdout",
     "output_type": "stream",
     "text": [
      "lancio 1: 4\n",
      "lancio 2: 2\n",
      "lancio 3: 1\n",
      "lancio 4: 6\n",
      "lancio 5: 6\n",
      "lancio 6: 5\n",
      "lancio 7: 3\n",
      "lancio 8: 5\n",
      "lancio 9: 4\n",
      "Lista dei lanci: [4, 2, 1, 6, 6, 5, 3, 5, 4]\n",
      "36\n",
      "Programma terminato.\n"
     ]
    },
    {
     "ename": "SystemExit",
     "evalue": "0",
     "output_type": "error",
     "traceback": [
      "An exception has occurred, use %tb to see the full traceback.\n",
      "\u001b[1;31mSystemExit\u001b[0m\u001b[1;31m:\u001b[0m 0\n"
     ]
    }
   ],
   "source": [
    "import random\n",
    "from datetime import datetime\n",
    "import toolbox_AM  \n",
    "import sys\n",
    "\n",
    "try:\n",
    "    lista_dadi = []\n",
    "    numero_lanci_dadi = int(input(\"Quanti dadi vuoi lanciare? \"))\n",
    "\n",
    "    def lancio_dadi():\n",
    "        dado = random.randint(1, 6)\n",
    "        lista_dadi.append(dado)\n",
    "        return dado\n",
    "\n",
    "    for i in range(1, numero_lanci_dadi + 1):\n",
    "        risultato = lancio_dadi()\n",
    "        print(f\"lancio {i}: {risultato}\")\n",
    "    print(f\"Lista dei lanci: {lista_dadi}\")\n",
    "    print(toolbox_AM.Somma_lista(lista_dadi))\n",
    "\n",
    "    # Salva i risultati in un file .txt\n",
    "    nome_file = \"risultati_dadi_\" + datetime.now().strftime(\"%Y%m%d%H%M%S\") + \".txt\"\n",
    "    with open(nome_file, \"w\", encoding=\"utf-8\") as f:\n",
    "        f.write(f\"Numero di lanci: {numero_lanci_dadi}\\n\")\n",
    "        f.write(f\"Lista dei lanci: {lista_dadi}\\n\")\n",
    "        f.write(f\"Somma dei lanci: {toolbox_AM.Somma_lista(lista_dadi)}\\n\")\n",
    "\n",
    "except ValueError:\n",
    "    with open(\"buffering_False.txt\", \"w\", encoding=\"utf-8\") as f:\n",
    "        f.write(\"Errore: il numero di lanci deve essere un intero positivo.\\n\")\n",
    "    print(\"Errore: il numero di lanci deve essere un intero positivo.\")\n",
    "\n",
    "except Exception as e:\n",
    "    print(f\"An error occurred: {e}\")\n",
    "\n",
    "finally:\n",
    "    print(\"Programma terminato.\")\n",
    "    sys.exit(0)"
   ]
  },
  {
   "cell_type": "markdown",
   "id": "f71370c3",
   "metadata": {},
   "source": [
    "--init--"
   ]
  },
  {
   "cell_type": "code",
   "execution_count": null,
   "id": "31cf65f2",
   "metadata": {},
   "outputs": [],
   "source": []
  },
  {
   "cell_type": "code",
   "execution_count": 6,
   "id": "47e709da",
   "metadata": {},
   "outputs": [
    {
     "name": "stdout",
     "output_type": "stream",
     "text": [
      "Ciao, Mario Rossi!\n"
     ]
    }
   ],
   "source": [
    "class anagrafica:\n",
    "    def __init__(self, nome, cognome, eta):\n",
    "        self.nome = nome\n",
    "        self.cognome = cognome\n",
    "        self.eta = eta\n",
    "\n",
    "    def __str__(self):\n",
    "        return f\"{self.nome} {self.cognome}, {self.eta} anni\"\n",
    "\n",
    "class salutare:\n",
    "    def __init__(self, saluto):\n",
    "        self.saluto = saluto\n",
    "\n",
    "    def __str__(self):\n",
    "        return f\"{self.saluto}\"\n",
    "\n",
    "class saluto_persona(anagrafica, salutare):\n",
    "    def __init__(self, nome, cognome, eta, saluto):\n",
    "        anagrafica.__init__(self, nome, cognome, eta)\n",
    "        salutare.__init__(self, saluto)\n",
    "\n",
    "    def __str__(self):\n",
    "        return f\"{self.saluto}, {self.nome} {self.cognome}!\"\n",
    "\n",
    "persona = anagrafica(\"Mario\", \"Rossi\", 30)\n",
    "saluto = salutare(\"Ciao\")\n",
    "saluto_mario = saluto_persona(\"Mario\", \"Rossi\", 30, \"Ciao\")\n",
    "print(saluto_mario)"
   ]
  },
  {
   "cell_type": "code",
   "execution_count": null,
   "id": "b435f00f",
   "metadata": {},
   "outputs": [],
   "source": [
    "import csv\n",
    "\n",
    "class studente:\n",
    "    def __init__(self, nome, cognome,matricola, corso_di_laurea, media_voti, anno_iscrizione):\n",
    "        self.nome = nome\n",
    "        self.cognome = cognome\n",
    "        self.eta = matricola\n",
    "        self.corso_di_laurea = corso_di_laurea  \n",
    "        self.media_voti = media_voti\n",
    "        self.anno_iscrizione = anno_iscrizione\n",
    "\n",
    "class corso:\n",
    "    def __init__(self, nome, docente, crediti,lista_studenti=None):\n",
    "        if lista_studenti is None:\n",
    "            lista_studenti = []\n",
    "        self.nome = nome\n",
    "        self.docente = docente\n",
    "        self.crediti = crediti\n",
    "        self.lista_studenti = lista_studenti\n",
    "\n",
    "def aggiungi_studente(self, nuovo_studente):\n",
    "        # Controlla duplicati tramite matricola\n",
    "        for s in self.lista_studenti:\n",
    "            if s.matricola == nuovo_studente.matricola:\n",
    "                print(f\"Studente con matricola {nuovo_studente.matricola} già presente!\")\n",
    "                return\n",
    "        self.lista_studenti.append(nuovo_studente)\n",
    "        print(f\"Studente {nuovo_studente.nome} {nuovo_studente.cognome} aggiunto al corso {self.nome}.\")\n",
    "\n",
    "\n",
    "corso1 = corso(\"Informatica\", \"Prof. Rossi\", 12)\n",
    "\n",
    "while True:\n",
    "    nome = input(\"Nome studente (lascia vuoto per terminare): \")\n",
    "    if nome == \"\":\n",
    "        break\n",
    "    cognome = input(\"Cognome: \")\n",
    "    matricola = input(\"Matricola: \")\n",
    "    corso_di_laurea = input(\"Corso di laurea: \")\n",
    "    media_voti = float(input(\"Media voti: \"))\n",
    "    anno_iscrizione = int(input(\"Anno iscrizione: \"))\n",
    "    nuovo_studente = studente(nome, cognome, matricola, corso_di_laurea, media_voti, anno_iscrizione)\n",
    "    corso1.aggiungi_studente(nuovo_studente)\n",
    "\n",
    "print(\"Studenti iscritti:\")\n",
    "for s in corso1.lista_studenti:\n",
    "    with open(\"studenti.csv\", \"w\", newline='', encoding=\"utf-8\") as csvfile:\n",
    "        writer = csv.writer(csvfile)\n",
    "        writer.writerow([s.nome, s.cognome, s.matricola, s.corso_di_laurea, s.media_voti, s.anno_iscrizione])\n",
    "    "
   ]
  },
  {
   "cell_type": "code",
   "execution_count": null,
   "id": "9e93bbcf",
   "metadata": {},
   "outputs": [],
   "source": []
  }
 ],
 "metadata": {
  "kernelspec": {
   "display_name": "Python 3",
   "language": "python",
   "name": "python3"
  },
  "language_info": {
   "codemirror_mode": {
    "name": "ipython",
    "version": 3
   },
   "file_extension": ".py",
   "mimetype": "text/x-python",
   "name": "python",
   "nbconvert_exporter": "python",
   "pygments_lexer": "ipython3",
   "version": "3.12.1"
  }
 },
 "nbformat": 4,
 "nbformat_minor": 5
}
