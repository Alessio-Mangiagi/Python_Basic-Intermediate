{
 "cells": [
  {
   "cell_type": "code",
   "execution_count": 2,
   "id": "bf676cdc",
   "metadata": {},
   "outputs": [],
   "source": [
    "import random\n",
    "import toolbox_AM\n",
    "import sys\n",
    "import os"
   ]
  },
  {
   "cell_type": "code",
   "execution_count": 8,
   "id": "4d301bb0",
   "metadata": {},
   "outputs": [
    {
     "name": "stdout",
     "output_type": "stream",
     "text": [
      "lancio 1: 3\n",
      "lancio 2: 4\n",
      "lancio 3: 6\n",
      "lancio 4: 2\n",
      "lancio 5: 1\n",
      "lancio 6: 2\n",
      "lancio 7: 6\n",
      "lancio 8: 5\n",
      "Lista dei lanci: [3, 4, 6, 2, 1, 2, 6, 5]\n",
      "29\n"
     ]
    }
   ],
   "source": [
    "lista_dadi = []\n",
    "numero_lanci_dadi = int(input(\"Quanti dadi vuoi lanciare? \"))\n",
    "\n",
    "def lancio_dadi():\n",
    "    dado = random.randint(1, 6)\n",
    "    lista_dadi.append(dado)\n",
    "    return dado\n",
    "\n",
    "for i in range(1, numero_lanci_dadi + 1):\n",
    "    risultato = lancio_dadi()\n",
    "    print(f\"lancio {i}: {risultato}\")\n",
    "print(f\"Lista dei lanci: {lista_dadi}\")\n",
    "print(toolbox_AM.Somma_lista(lista_dadi))\n",
    "\n"
   ]
  },
  {
   "cell_type": "code",
   "execution_count": null,
   "id": "d78996a4",
   "metadata": {},
   "outputs": [
    {
     "name": "stdout",
     "output_type": "stream",
     "text": [
      "Il prezzo finale dopo lo sconto è: 0.0\n"
     ]
    }
   ],
   "source": [
    "#calcola_sconto\n",
    "\n",
    "Inserisci_prezzo = float(input(\"Inserisci il prezzo del prodotto: \"))\n",
    "while Inserisci_prezzo:\n",
    "    if Inserisci_prezzo < 0:\n",
    "        break\n",
    "    print(\"Il prezzo non può essere negativo. Riprova.\")\n",
    "    Inserisci_prezzo = float(input(\"Inserisci il prezzo del prodotto: \")) \n",
    "         \n",
    "def calcola_sconto(prezzo):\n",
    "    if prezzo < 100:\n",
    "        sconto = 0.05\n",
    "    elif prezzo < 200:\n",
    "        sconto = 0.10\n",
    "    else:\n",
    "        sconto = 0.15\n",
    "    return prezzo * (1 - sconto)\n",
    "print(f\"Il prezzo finale dopo lo sconto è: {calcola_sconto(Inserisci_prezzo)}\")"
   ]
  },
  {
   "cell_type": "code",
   "execution_count": null,
   "id": "06ed524f",
   "metadata": {},
   "outputs": [
    {
     "name": "stdout",
     "output_type": "stream",
     "text": [
      "Presa per stanza:['bagno'] \n",
      "Presa per stanza:['cucina', 'studio'] \n",
      "Presa per stanza:['soggiorno', 'camera da letto', 'ingresso'] \n",
      "Lista delle stanze con prese: [['bagno'], ['cucina', 'studio'], ['soggiorno', 'camera da letto', 'ingresso']]\n"
     ]
    }
   ],
   "source": [
    "#list comprehension iterazioni \n",
    "stanze = [\"cucina\", \"soggiorno\", \"camera da letto\", \"bagno\", \"studio\", \"ingresso\"]\n",
    "stanza_con_3_prese = [s for s in stanze if len(s) <= 5]\n",
    "stanza_con_4_prese = [s for s in stanze if len(s) == 6]\n",
    "stanza_con_5_prese = [s for s in stanze if len(s) >= 7]\n",
    "print(f\"Presa per stanza:{stanza_con_3_prese} \")\n",
    "print(f\"Presa per stanza:{stanza_con_4_prese} \")\n",
    "print(f\"Presa per stanza:{stanza_con_5_prese} \")\n",
    "\n",
    "lista_stanze = [stanza_con_3_prese, stanza_con_4_prese, stanza_con_5_prese]\n",
    "lista = [p for p in lista_stanze if len(p) > 0]\n",
    "print(f\"Lista delle stanze con prese: {lista}\")\n"
   ]
  },
  {
   "cell_type": "code",
   "execution_count": null,
   "id": "ffc9c613",
   "metadata": {},
   "outputs": [
    {
     "name": "stdout",
     "output_type": "stream",
     "text": [
      "[1, 4, 9, 16, 25, 36, 49, 64, 81, 100]\n"
     ]
    }
   ],
   "source": [
    "quadrati = [x**2 for x in range(1, 11)]\n",
    "print(quadrati)\n"
   ]
  },
  {
   "cell_type": "code",
   "execution_count": 2,
   "id": "8de4e8f1",
   "metadata": {},
   "outputs": [
    {
     "name": "stdout",
     "output_type": "stream",
     "text": [
      "[0, 2, 4, 6, 8, 10, 12, 14, 16, 18, 20]\n"
     ]
    }
   ],
   "source": [
    "pari = [x for x in range(21) if x % 2 == 0]\n",
    "print(pari)"
   ]
  }
 ],
 "metadata": {
  "kernelspec": {
   "display_name": "Python 3",
   "language": "python",
   "name": "python3"
  },
  "language_info": {
   "codemirror_mode": {
    "name": "ipython",
    "version": 3
   },
   "file_extension": ".py",
   "mimetype": "text/x-python",
   "name": "python",
   "nbconvert_exporter": "python",
   "pygments_lexer": "ipython3",
   "version": "3.12.1"
  }
 },
 "nbformat": 4,
 "nbformat_minor": 5
}
