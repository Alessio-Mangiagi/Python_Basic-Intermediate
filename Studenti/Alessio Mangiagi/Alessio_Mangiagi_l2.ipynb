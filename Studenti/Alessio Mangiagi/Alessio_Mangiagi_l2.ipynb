{
 "cells": [
  {
   "cell_type": "markdown",
   "id": "fb09eae8",
   "metadata": {},
   "source": [
    "lezione 2 27/05/2025"
   ]
  },
  {
   "cell_type": "code",
   "execution_count": null,
   "id": "abce56d1",
   "metadata": {},
   "outputs": [],
   "source": [
    "nome = \"Alessio\" #nome dell'utente\n",
    "cognome = \"Mangiagi\" #cognome dell'utente\n",
    "dati= nome + \" \" + cognome\n",
    "print(f\"Il nome dell'utente è: {dati}\") #stampa il nome e cognome dell'utente'''\n"
   ]
  },
  {
   "cell_type": "code",
   "execution_count": null,
   "id": "4a6ea4be",
   "metadata": {},
   "outputs": [],
   "source": [
    "nome = \"Alessio\" #nome dell'utente\n",
    "cognome = \"Mangiagi\" #cognome dell'utente\n",
    "print(f\"Il nome dell'utente è: {nome} {cognome}\") #stampa il nome e cognome dell'utente\n",
    "# lo spazio viene aggiunto direttamente nella stringa formattata"
   ]
  },
  {
   "cell_type": "code",
   "execution_count": 1,
   "id": "b575c89f",
   "metadata": {},
   "outputs": [
    {
     "name": "stdout",
     "output_type": "stream",
     "text": [
      "La larghezza è: 9.0, la lunghezza è: 7.0, il calcolo è: 63.0\n"
     ]
    }
   ],
   "source": [
    "def dati_inseriti_utente ():\n",
    "    larghezza = float(input(\"Inserisci la larghezza: \"))\n",
    "    lunghezza = float(input(\"Inserisci la lunghezza: \"))\n",
    "    calcolo= larghezza * lunghezza\n",
    "    print(f\"La larghezza è: {larghezza}, la lunghezza è: {lunghezza}, il calcolo è: {calcolo}\")\n",
    "dati_inseriti_utente()\n",
    "# Funzione per calcolare l'area di un rettangolo"
   ]
  },
  {
   "cell_type": "code",
   "execution_count": null,
   "id": "f99696e7",
   "metadata": {},
   "outputs": [],
   "source": [
    "if nome == \"Alessio\":\n",
    "    print(\"Il nome dell'utente è Alessio\")\n",
    "else:\n",
    "    print(\"Ma cu sì? Non sei Alessio!\")\n",
    "# Condizione per verificare se il nome dell'utente è Alessio"
   ]
  },
  {
   "cell_type": "code",
   "execution_count": 2,
   "id": "94e4e70f",
   "metadata": {},
   "outputs": [
    {
     "name": "stdout",
     "output_type": "stream",
     "text": [
      "False\n"
     ]
    }
   ],
   "source": [
    "nome1= \"pippo\"#queso è un comparatore che ci fa capire il valore buleano per gestire i dati\n",
    "dato = nome1 == \"Alessio\"\n",
    "print(dato) #in questo caso ci restituisce false perché il nome non è Alessio"
   ]
  },
  {
   "cell_type": "code",
   "execution_count": null,
   "id": "16b7ca12",
   "metadata": {},
   "outputs": [
    {
     "name": "stdout",
     "output_type": "stream",
     "text": [
      "il promo numero è 3.4545 il secondo numero è 53.6563 La divisione dei due numeri è: 0.06438200174070892\n"
     ]
    }
   ],
   "source": [
    "x1 = input(\"Inserisci un numero: \")\n",
    "y1 = input(\"Inserisci un altro numero: \")\n",
    "totale = float(x1) / float(y1)\n",
    "#stampa la somma dei due numeri inseriti dall'utente\n",
    "print(f\"il promo numero è {x1}\",f\"il secondo numero è {y1}\",f\"La divisione dei due numeri è: {totale}\") "
   ]
  },
  {
   "cell_type": "code",
   "execution_count": null,
   "id": "9081d50a",
   "metadata": {},
   "outputs": [
    {
     "name": "stdout",
     "output_type": "stream",
     "text": [
      "Il nome dell'utente è: 2\n"
     ]
    }
   ],
   "source": [
    "nome = input(\"Inserisci il tuo nome: \")\n",
    "cognome = input(\"Inserisci il tuo cognome: \")   \n",
    "\n",
    "if nome:\n",
    "    dati = bool(nome) + bool(cognome)\n",
    "    print(f\"Il nome dell'utente è: {dati}\")"
   ]
  },
  {
   "cell_type": "code",
   "execution_count": null,
   "id": "988ef5dd",
   "metadata": {},
   "outputs": [
    {
     "name": "stdout",
     "output_type": "stream",
     "text": [
      "Calcolatrice\n",
      "Scegli un'operazione:\n",
      " 1. Somma\n",
      " 2. Sottrazione\n",
      " 3. Moltiplicazione\n",
      " 4. Divisione\n",
      "Errore: Divisione per zero non permessa.\n"
     ]
    }
   ],
   "source": [
    "def calcolatrice():\n",
    "    print(\"Calcolatrice\")\n",
    "    print(\"Scegli un'operazione:\\n 1. Somma\\n 2. Sottrazione\\n 3. Moltiplicazione\\n 4. Divisione\")\n",
    "   \n",
    "    scelta = int(input(\"Inserisci il numero dell'operazione desiderata: \"))\n",
    "    if scelta in [1, 2, 3, 4]:\n",
    "        num1 = float(input(\"Inserisci il primo numero: \"))\n",
    "        num2 = float(input(\"Inserisci il secondo numero: \"))\n",
    "\n",
    "        if scelta == 1:\n",
    "            risultato = num1 + num2\n",
    "            print(f\"La somma di {num1} e {num2} è: {risultato}\")\n",
    "        elif scelta == 2:\n",
    "            risultato = num1 - num2\n",
    "            print(f\"La sottrazione di {num1} e {num2} è: {risultato}\")\n",
    "        elif scelta == 3:\n",
    "            risultato = num1 * num2\n",
    "            print(f\"La moltiplicazione di {num1} e {num2} è: {risultato}\")\n",
    "        elif scelta == 4:\n",
    "            if num2 != 0:\n",
    "                risultato = num1 / num2\n",
    "                print(f\"La divisione di {num1} e {num2} è: {risultato}\")\n",
    "            else:\n",
    "                print(\"Errore: Divisione per zero non permessa.\")\n",
    "    else:\n",
    "        print(\"Operazione non valida. Riprova.\")\n",
    "\n",
    "calcolatrice()\n"
   ]
  },
  {
   "cell_type": "code",
   "execution_count": null,
   "id": "fe288b32",
   "metadata": {},
   "outputs": [],
   "source": []
  }
 ],
 "metadata": {
  "kernelspec": {
   "display_name": "Python 3",
   "language": "python",
   "name": "python3"
  },
  "language_info": {
   "codemirror_mode": {
    "name": "ipython",
    "version": 3
   },
   "file_extension": ".py",
   "mimetype": "text/x-python",
   "name": "python",
   "nbconvert_exporter": "python",
   "pygments_lexer": "ipython3",
   "version": "3.12.1"
  }
 },
 "nbformat": 4,
 "nbformat_minor": 5
}
