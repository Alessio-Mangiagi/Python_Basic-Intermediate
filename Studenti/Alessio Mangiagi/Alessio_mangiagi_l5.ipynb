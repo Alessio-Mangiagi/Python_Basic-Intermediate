{
 "cells": [
  {
   "cell_type": "markdown",
   "id": "923cb0a8",
   "metadata": {},
   "source": [
    "Lezione 5 29/5/25"
   ]
  },
  {
   "cell_type": "code",
   "execution_count": 4,
   "id": "d5d9714b",
   "metadata": {},
   "outputs": [
    {
     "name": "stdout",
     "output_type": "stream",
     "text": [
      "[1, 2, 3, 4, 5, 6, 7, 8, 9, 29]\n",
      "[1, 2, 3, 4, 5, 6, 7, 8, 9, 29]\n",
      "['anna', 'giovanni', 'lessa', 'luigi', 'mario']\n"
     ]
    }
   ],
   "source": [
    "lista_numeri=[1, 2, 3, 4, 5, 6, 7, 8, 9, 10]\n",
    "lista_numeri.pop(9)\n",
    "lista_numeri.append(29)\n",
    "print(lista_numeri)\n",
    "lista_numeri.sort()\n",
    "print(lista_numeri)\n",
    "lista_persone=[\"lessa\", \"mario\", \"giovanni\", \"anna\", \"luigi\"]\n",
    "lista_persone.sort()\n",
    "print(lista_persone)"
   ]
  },
  {
   "cell_type": "code",
   "execution_count": 5,
   "id": "0a1bfad6",
   "metadata": {},
   "outputs": [
    {
     "name": "stdout",
     "output_type": "stream",
     "text": [
      "[[1, 4, 9, 16, 25, 36, 49, 64, 81, 841], [1, 4, 9, 16, 25, 36, 49, 64, 81, 841], [1, 4, 9, 16, 25, 36, 49, 64, 81, 841], [1, 4, 9, 16, 25, 36, 49, 64, 81, 841], [1, 4, 9, 16, 25, 36, 49, 64, 81, 841]]\n"
     ]
    }
   ],
   "source": [
    "listona_potenze = [[n**2 for n in lista_numeri]for persona in lista_persone]\n",
    "print(listona_potenze)"
   ]
  },
  {
   "cell_type": "code",
   "execution_count": null,
   "id": "31ada81a",
   "metadata": {},
   "outputs": [
    {
     "name": "stdout",
     "output_type": "stream",
     "text": [
      "[[4, 16, 36, 64], [4, 16, 36, 64], [4, 16, 36, 64], [4, 16, 36, 64], [4, 16, 36, 64]]\n"
     ]
    }
   ],
   "source": [
    "listona_potenze = [[n**2 for n in lista_numeri if n % 2 == 0] for persona in lista_persone]#il modulo mantiene solo i numeri pari perchè tiene solo il valore senza resto\n",
    "print(listona_potenze)#solo numeri pari"
   ]
  },
  {
   "cell_type": "markdown",
   "id": "f4800db6",
   "metadata": {},
   "source": []
  }
 ],
 "metadata": {
  "kernelspec": {
   "display_name": "Python 3",
   "language": "python",
   "name": "python3"
  },
  "language_info": {
   "codemirror_mode": {
    "name": "ipython",
    "version": 3
   },
   "file_extension": ".py",
   "mimetype": "text/x-python",
   "name": "python",
   "nbconvert_exporter": "python",
   "pygments_lexer": "ipython3",
   "version": "3.12.1"
  }
 },
 "nbformat": 4,
 "nbformat_minor": 5
}
